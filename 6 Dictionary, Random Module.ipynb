{
 "cells": [
  {
   "cell_type": "markdown",
   "metadata": {},
   "source": [
    "Dictionary/Associative Array:\n",
    "--\n",
    "\n",
    "> Python provides a dictionary structure to deal with unordered set of key value pairs.\n",
    "\n",
    "> The key and value pair is called as item.\n",
    "\n",
    "> The values in the dictionary are mutable i.e can be changed\n",
    "\n",
    "> The keys in the dictionary are immutable i.e cannot be changed\n",
    "\n",
    "> It is also called as an Associative array because the key works as an Index and they are decided by the user."
   ]
  },
  {
   "cell_type": "code",
   "execution_count": 5,
   "metadata": {},
   "outputs": [
    {
     "name": "stdout",
     "output_type": "stream",
     "text": [
      "{1: 'COMP', 12: 'IT', 31: 'EXTC'}\n",
      "<class 'dict'>\n",
      "COMP\n",
      "IT\n",
      "EXTC\n"
     ]
    },
    {
     "ename": "KeyError",
     "evalue": "0",
     "output_type": "error",
     "traceback": [
      "\u001b[1;31m---------------------------------------------------------------------------\u001b[0m",
      "\u001b[1;31mKeyError\u001b[0m                                  Traceback (most recent call last)",
      "\u001b[1;32m<ipython-input-5-2d688ef47fc3>\u001b[0m in \u001b[0;36m<module>\u001b[1;34m\u001b[0m\n\u001b[0;32m      5\u001b[0m \u001b[0mprint\u001b[0m\u001b[1;33m(\u001b[0m\u001b[0md\u001b[0m\u001b[1;33m[\u001b[0m\u001b[1;36m12\u001b[0m\u001b[1;33m]\u001b[0m\u001b[1;33m)\u001b[0m\u001b[1;33m\u001b[0m\u001b[1;33m\u001b[0m\u001b[0m\n\u001b[0;32m      6\u001b[0m \u001b[0mprint\u001b[0m\u001b[1;33m(\u001b[0m\u001b[0md\u001b[0m\u001b[1;33m[\u001b[0m\u001b[1;36m31\u001b[0m\u001b[1;33m]\u001b[0m\u001b[1;33m)\u001b[0m\u001b[1;33m\u001b[0m\u001b[1;33m\u001b[0m\u001b[0m\n\u001b[1;32m----> 7\u001b[1;33m \u001b[0mprint\u001b[0m\u001b[1;33m(\u001b[0m\u001b[0md\u001b[0m\u001b[1;33m[\u001b[0m\u001b[1;36m0\u001b[0m\u001b[1;33m]\u001b[0m\u001b[1;33m)\u001b[0m\u001b[1;33m\u001b[0m\u001b[1;33m\u001b[0m\u001b[0m\n\u001b[0m",
      "\u001b[1;31mKeyError\u001b[0m: 0"
     ]
    }
   ],
   "source": [
    "d = { 1:\"COMP\" , 12:\"IT\" , 31:\"EXTC\" }\n",
    "print(d)\n",
    "print(type(d))\n",
    "print(d[1])\n",
    "print(d[12])\n",
    "print(d[31])\n",
    "# print(d[0]) # KeyError"
   ]
  },
  {
   "cell_type": "code",
   "execution_count": 9,
   "metadata": {},
   "outputs": [
    {
     "name": "stdout",
     "output_type": "stream",
     "text": [
      "{'COMP': 3, 'IT': 1, 'EXTC': 2}\n",
      "3\n",
      "2\n"
     ]
    }
   ],
   "source": [
    "d1 = {\"COMP\" : 3, \"IT\": 1, \"EXTC\":2}\n",
    "print(d1)\n",
    "print(d1[\"COMP\"])\n",
    "print(d1[\"EXTC\"])"
   ]
  },
  {
   "cell_type": "code",
   "execution_count": 13,
   "metadata": {},
   "outputs": [
    {
     "name": "stdout",
     "output_type": "stream",
     "text": [
      "{1: 100, 1.2: 150, 'Darshan': 'Ingle', 'BoardInfinity': 1256.236, 12.2456: 'Learners'}\n",
      "100\n",
      "Ingle\n",
      "Learners\n"
     ]
    }
   ],
   "source": [
    "d = { 1:100 , 1.2:150 , \"Darshan\":\"Ingle\" , \"BoardInfinity\":1256.236 ,\n",
    "    12.2456:\"Learners\"}\n",
    "print(d)\n",
    "print(d[1])\n",
    "print(d[\"Darshan\"])\n",
    "print(d[12.2456])"
   ]
  },
  {
   "cell_type": "code",
   "execution_count": 18,
   "metadata": {},
   "outputs": [
    {
     "name": "stdout",
     "output_type": "stream",
     "text": [
      "{1: 100, 5.6: [1, 2, 3, 4, 5], 12: (55, 66, 77), 13: {'a', 'e'}}\n",
      "100\n",
      "(55, 66, 77)\n",
      "<class 'tuple'>\n",
      "66\n"
     ]
    }
   ],
   "source": [
    "d = { 1:100 , 5.6:[1,2,3,4,5] , 12:(55,66,77), 13:{'a','e'}}\n",
    "print(d)\n",
    "print(d[1])\n",
    "print(d[12])\n",
    "print(type(d[12]))\n",
    "print(d[12][1])"
   ]
  },
  {
   "cell_type": "code",
   "execution_count": 25,
   "metadata": {},
   "outputs": [
    {
     "name": "stdout",
     "output_type": "stream",
     "text": [
      "True\n",
      "False\n",
      "{1: 'COMP', 2: 'IT', 3: 'EXTC'}\n",
      "<class 'str'>\n",
      "dict_keys([1, 2, 3])\n",
      "[1, 2, 3]\n",
      "dict_values(['COMP', 'IT', 'EXTC'])\n"
     ]
    }
   ],
   "source": [
    "d = {1:\"COMP\", 2: \"IT\", 3:\"EXTC\"}\n",
    "print(3 in d)\n",
    "print(\"EXTC\" in d)\n",
    "print(str(d))\n",
    "print(type(str(d)))\n",
    "print(d.keys())\n",
    "print(list(d.keys()))\n",
    "print(d.values())"
   ]
  },
  {
   "cell_type": "code",
   "execution_count": 27,
   "metadata": {},
   "outputs": [
    {
     "name": "stdout",
     "output_type": "stream",
     "text": [
      "{1: 'COMP', 2: 'IT', 3: 'EXTC'}\n",
      "{100: 'CHEM'}\n",
      "{1: 'COMP', 2: 'IT', 3: 'EXTC', 100: 'CHEM'}\n",
      "{100: 'CHEM'}\n"
     ]
    }
   ],
   "source": [
    "d1 = {1:\"COMP\", 2: \"IT\", 3:\"EXTC\"}\n",
    "d2 = {100:\"CHEM\"}\n",
    "print(d1)\n",
    "print(d2)\n",
    "d1.update(d2)\n",
    "print(d1)\n",
    "print(d2)"
   ]
  },
  {
   "cell_type": "code",
   "execution_count": 29,
   "metadata": {},
   "outputs": [
    {
     "name": "stdout",
     "output_type": "stream",
     "text": [
      "1\n",
      "1\n"
     ]
    }
   ],
   "source": [
    "d1 = {\"COMP\" : 3, \"IT\": 1, \"EXTC\":2}\n",
    "print(d1.get(\"IT\"))\n",
    "print(d1['IT'])"
   ]
  },
  {
   "cell_type": "code",
   "execution_count": 30,
   "metadata": {},
   "outputs": [
    {
     "name": "stdout",
     "output_type": "stream",
     "text": [
      "{1: 300, 2: 100, 3: 150, 4: 200, 5: 250}\n"
     ]
    }
   ],
   "source": [
    "d = { 1:50, 2:100, 3:150, 4:200, 5:250, 1:300 }\n",
    "print(d)"
   ]
  },
  {
   "cell_type": "code",
   "execution_count": 35,
   "metadata": {},
   "outputs": [
    {
     "name": "stdout",
     "output_type": "stream",
     "text": [
      "{1: 50, 2: 100, 3: 150, 4: 200, 5: 250}\n",
      "50\n",
      "{1: 'Darshan', 2: 100, 3: 150, 4: 200, 5: 250}\n"
     ]
    }
   ],
   "source": [
    "d = { 1:50, 2:100, 3:150, 4:200, 5:250 }\n",
    "print(d)\n",
    "print(d[1])\n",
    "d[1] = \"Darshan\"\n",
    "print(d)"
   ]
  },
  {
   "cell_type": "code",
   "execution_count": 36,
   "metadata": {},
   "outputs": [
    {
     "name": "stdout",
     "output_type": "stream",
     "text": [
      "{1: 50, 2: 100, 3: 150, 4: 200, 5: 250}\n",
      "{1: 50, 2: 100, 4: 200, 5: 250}\n"
     ]
    }
   ],
   "source": [
    "d = { 1:50, 2:100, 3:150, 4:200, 5:250 }\n",
    "print(d)\n",
    "del d[3]\n",
    "print(d)\n",
    "\n",
    "# d.clear()\n",
    "\n",
    "# cannot have duplicate keys - when we have duplicate keys the latest value will be \n",
    "# retained previous value will be dropped"
   ]
  },
  {
   "cell_type": "markdown",
   "metadata": {},
   "source": [
    "Random Module\n",
    "--\n",
    "\n",
    "It is used to deal with numbers in random manner."
   ]
  },
  {
   "cell_type": "code",
   "execution_count": 109,
   "metadata": {},
   "outputs": [
    {
     "name": "stdout",
     "output_type": "stream",
     "text": [
      "6\n",
      "66\n",
      "s\n",
      "1\n",
      "3\n",
      "0.3347504513703603\n"
     ]
    }
   ],
   "source": [
    "import random\n",
    "print(random.choice((1,2,3,4,5,6)))\n",
    "print(random.choice([11,22,33,44,55,66]))\n",
    "print(random.choice('Darshan'))\n",
    "print(random.randrange(1,10))\n",
    "print(random.randrange(1,10,2))\n",
    "print(random.random())"
   ]
  },
  {
   "cell_type": "code",
   "execution_count": 139,
   "metadata": {},
   "outputs": [
    {
     "name": "stdout",
     "output_type": "stream",
     "text": [
      "[3, 2, 6, 1]\n",
      "7.225553489670043\n"
     ]
    }
   ],
   "source": [
    "st=[1,3,2,6]\n",
    "random.shuffle(st)\n",
    "print(st)\n",
    "#Try executing\n",
    "#print(random.shuffle(st))\n",
    "print(random.uniform(7,14)) # uniform(x,y) gives a number n such that x <= n < y\n",
    "# print(random.uniform(7,14))"
   ]
  },
  {
   "cell_type": "code",
   "execution_count": 140,
   "metadata": {},
   "outputs": [
    {
     "name": "stdout",
     "output_type": "stream",
     "text": [
      "{1: [11, 12], 2: [44, 55]}\n",
      "<class 'dict'>\n"
     ]
    }
   ],
   "source": [
    "# Dictionary can contain lists\n",
    "# type your code here\n",
    "l = { 1:[11,12] , 2:[44,55] }\n",
    "print(l)\n",
    "print(type(l))"
   ]
  },
  {
   "cell_type": "code",
   "execution_count": 142,
   "metadata": {},
   "outputs": [
    {
     "name": "stdout",
     "output_type": "stream",
     "text": [
      "{1: (11, 12), 2: [44, 55]}\n",
      "<class 'dict'>\n",
      "<class 'tuple'>\n"
     ]
    }
   ],
   "source": [
    "# Dictionary can contain tuples\n",
    "# type your code here\n",
    "l = { 1:(11,12) , 2:[44,55] }\n",
    "print(l)\n",
    "print(type(l))\n",
    "print(type(l[1]))"
   ]
  },
  {
   "cell_type": "code",
   "execution_count": null,
   "metadata": {},
   "outputs": [],
   "source": [
    "# Dictionary can contain tuples\n",
    "# type your code here\n",
    "\n",
    "print(l)\n",
    "print(type(l))\n",
    "print(type(l[4]))"
   ]
  },
  {
   "cell_type": "code",
   "execution_count": 1,
   "metadata": {},
   "outputs": [
    {
     "name": "stdout",
     "output_type": "stream",
     "text": [
      "{1: ('1', 2), 2: ('1', '2'), 100: {444: ('1', 2), 445: ('1', '2'), 446: ('2', '3')}, 3: ('2', '3'), 4: '3'}\n",
      "<class 'dict'>\n",
      "l[1]=  ('1', 2)\n",
      "l[100]=  {444: ('1', 2), 445: ('1', '2'), 446: ('2', '3')}\n"
     ]
    }
   ],
   "source": [
    "# Dictionary can contain dictionaries\n",
    "l = {1: ('1',2), 2: ('1', '2'), 100:{444: ('1',2), 445: ('1', '2'), 446: ('2', '3')},3: ('2', '3'), 4: ('3')}\n",
    "print(l)\n",
    "print(type(l))\n",
    "print(\"l[1]= \",l[1])\n",
    "print(\"l[100]= \",l[100])"
   ]
  },
  {
   "cell_type": "markdown",
   "metadata": {},
   "source": [
    "# Dictionary Comprehension\n",
    "\n"
   ]
  },
  {
   "cell_type": "code",
   "execution_count": 3,
   "metadata": {},
   "outputs": [
    {
     "name": "stdout",
     "output_type": "stream",
     "text": [
      "{}\n",
      "<class 'dict'>\n"
     ]
    }
   ],
   "source": [
    "d = dict () # cretes an empty dictionary\n",
    "print(d)\n",
    "print(type(d))"
   ]
  },
  {
   "cell_type": "code",
   "execution_count": 4,
   "metadata": {},
   "outputs": [],
   "source": [
    "for num in range (1,11):\n",
    "    d[num] = num**2"
   ]
  },
  {
   "cell_type": "code",
   "execution_count": 5,
   "metadata": {},
   "outputs": [
    {
     "data": {
      "text/plain": [
       "{1: 1, 2: 4, 3: 9, 4: 16, 5: 25, 6: 36, 7: 49, 8: 64, 9: 81, 10: 100}"
      ]
     },
     "execution_count": 5,
     "metadata": {},
     "output_type": "execute_result"
    }
   ],
   "source": [
    "d"
   ]
  },
  {
   "cell_type": "code",
   "execution_count": 6,
   "metadata": {},
   "outputs": [
    {
     "data": {
      "text/plain": [
       "{1: 1, 2: 4, 3: 9, 4: 16, 5: 25, 6: 36, 7: 49, 8: 64, 9: 81, 10: 100}"
      ]
     },
     "execution_count": 6,
     "metadata": {},
     "output_type": "execute_result"
    }
   ],
   "source": [
    "# dictionary comprehension\n",
    "\n",
    "dc = { num : num**2 for num in range(1,11)}\n",
    "dc\n",
    "\n",
    "# we did the same thing for list we use to jsut num and "
   ]
  },
  {
   "cell_type": "code",
   "execution_count": 7,
   "metadata": {},
   "outputs": [
    {
     "data": {
      "text/plain": [
       "{1, 4, 9, 16, 25, 36, 49, 64, 81, 100}"
      ]
     },
     "execution_count": 7,
     "metadata": {},
     "output_type": "execute_result"
    }
   ],
   "source": [
    "# how did we do it in list\n",
    "\n",
    "lc = { num**2 for num in range(1,11)}\n",
    "lc"
   ]
  },
  {
   "cell_type": "code",
   "execution_count": 9,
   "metadata": {},
   "outputs": [
    {
     "data": {
      "text/plain": [
       "{'pav bhaji': 80, 'masala dosa': 75, 'chaas': 20, 'tea': 15, 'momos': 85}"
      ]
     },
     "execution_count": 9,
     "metadata": {},
     "output_type": "execute_result"
    }
   ],
   "source": [
    "# example \n",
    "\n",
    "old_menucard = {\n",
    "    'pav bhaji' : 80,\n",
    "    'masala dosa' : 75,\n",
    "    'chaas' : 20,\n",
    "    'tea' : 15,\n",
    "    'momos' : 85\n",
    "}\n",
    "\n",
    "old_menucard"
   ]
  },
  {
   "cell_type": "markdown",
   "metadata": {},
   "source": [
    "# lets say we want to have a 10% hike in price of every item "
   ]
  },
  {
   "cell_type": "code",
   "execution_count": 12,
   "metadata": {},
   "outputs": [
    {
     "data": {
      "text/plain": [
       "{'pav bhaji': 88.0,\n",
       " 'masala dosa': 82.5,\n",
       " 'chaas': 22.0,\n",
       " 'tea': 16.5,\n",
       " 'momos': 93.5}"
      ]
     },
     "execution_count": 12,
     "metadata": {},
     "output_type": "execute_result"
    }
   ],
   "source": [
    "new_menucard = {k:v+(0.1*v) for (k,v) in old_menucard.items() }\n",
    "new_menucard"
   ]
  },
  {
   "cell_type": "code",
   "execution_count": 13,
   "metadata": {},
   "outputs": [
    {
     "data": {
      "text/plain": [
       "{'pav bhaji': 88, 'masala dosa': 82, 'chaas': 22, 'tea': 16, 'momos': 94}"
      ]
     },
     "execution_count": 13,
     "metadata": {},
     "output_type": "execute_result"
    }
   ],
   "source": [
    "# round of to zero decimals\n",
    "new_menucard = {k:int(round(v+(0.1*v),0)) for (k,v) in old_menucard.items() }\n",
    "new_menucard"
   ]
  },
  {
   "cell_type": "code",
   "execution_count": 16,
   "metadata": {},
   "outputs": [
    {
     "name": "stdout",
     "output_type": "stream",
     "text": [
      "{'A': 28, 'B': 35, 'C': 50, 'D': 37}\n"
     ]
    },
    {
     "data": {
      "text/plain": [
       "{'D': 12}"
      ]
     },
     "execution_count": 16,
     "metadata": {},
     "output_type": "execute_result"
    }
   ],
   "source": [
    "# can we have IF conditions in the Dictionary comprehension\n",
    "\n",
    "test_marks = {'A':28,'B':35, 'C':50, 'D':12}\n",
    "print(d)\n",
    "# i want to sperate student who as failed (any body who as got less than 18 is fail)\n",
    "\n",
    "# passing = 19 marks\n",
    "\n",
    "failed_students = { k:v for (k,v) in test_marks.items() if v<18}\n",
    "failed_students"
   ]
  },
  {
   "cell_type": "code",
   "execution_count": 17,
   "metadata": {},
   "outputs": [
    {
     "data": {
      "text/plain": [
       "{4: 33}"
      ]
     },
     "execution_count": 17,
     "metadata": {},
     "output_type": "execute_result"
    }
   ],
   "source": [
    "# we can use multiple conditions as well\n",
    "\n",
    "d = {\n",
    "    1:38,\n",
    "    2:48,\n",
    "    3:57,\n",
    "    4:33\n",
    "}\n",
    "\n",
    "new = {k:v for (k,v) in d.items() if v%2 != 0 if v<40}\n",
    "new"
   ]
  },
  {
   "cell_type": "code",
   "execution_count": 18,
   "metadata": {},
   "outputs": [
    {
     "data": {
      "text/plain": [
       "{1: 'young', 2: 'old', 3: 'old', 4: 'young'}"
      ]
     },
     "execution_count": 18,
     "metadata": {},
     "output_type": "execute_result"
    }
   ],
   "source": [
    "# classify as old or young based on age\n",
    "\n",
    "d = {\n",
    "    1:38,\n",
    "    2:48,\n",
    "    3:57,\n",
    "    4:33\n",
    "}\n",
    "\n",
    "new = {k:('old' if v>40 else 'young') for (k,v) in d.items()}\n",
    "new"
   ]
  },
  {
   "cell_type": "code",
   "execution_count": 19,
   "metadata": {},
   "outputs": [
    {
     "data": {
      "text/plain": [
       "{2: 4, 3: 6, 4: 8}"
      ]
     },
     "execution_count": 19,
     "metadata": {},
     "output_type": "execute_result"
    }
   ],
   "source": [
    "# Nested dictionary \n",
    "\n",
    "# basic \n",
    "d = {\n",
    "    k1:k1*2 for k1 in range (2,5)\n",
    "}\n",
    "d\n",
    "\n"
   ]
  },
  {
   "cell_type": "code",
   "execution_count": 20,
   "metadata": {},
   "outputs": [
    {
     "data": {
      "text/plain": [
       "{2: {1: 2, 2: 4, 3: 6, 4: 8, 5: 10},\n",
       " 3: {1: 3, 2: 6, 3: 9, 4: 12, 5: 15},\n",
       " 4: {1: 4, 2: 8, 3: 12, 4: 16, 5: 20}}"
      ]
     },
     "execution_count": 20,
     "metadata": {},
     "output_type": "execute_result"
    }
   ],
   "source": [
    "# now build up\n",
    "\n",
    "d = {\n",
    "    k1:{k2:k1*k2 for k2 in range (1,6)} for k1 in range(2,5)\n",
    "}\n",
    "d"
   ]
  },
  {
   "cell_type": "code",
   "execution_count": null,
   "metadata": {},
   "outputs": [],
   "source": []
  }
 ],
 "metadata": {
  "kernelspec": {
   "display_name": "Python 3 (ipykernel)",
   "language": "python",
   "name": "python3"
  },
  "language_info": {
   "codemirror_mode": {
    "name": "ipython",
    "version": 3
   },
   "file_extension": ".py",
   "mimetype": "text/x-python",
   "name": "python",
   "nbconvert_exporter": "python",
   "pygments_lexer": "ipython3",
   "version": "3.9.7"
  },
  "toc": {
   "base_numbering": 1,
   "nav_menu": {},
   "number_sections": true,
   "sideBar": true,
   "skip_h1_title": false,
   "title_cell": "Table of Contents",
   "title_sidebar": "Contents",
   "toc_cell": false,
   "toc_position": {},
   "toc_section_display": true,
   "toc_window_display": false
  }
 },
 "nbformat": 4,
 "nbformat_minor": 2
}
