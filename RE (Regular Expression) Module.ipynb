{
 "cells": [
  {
   "cell_type": "markdown",
   "id": "09ef7e9e",
   "metadata": {},
   "source": [
    "# Reg Ex\n",
    "\n",
    "A Regular Expressions (RegEx) is a special sequence of characters that uses a search pattern to find a string or set of strings. It can detect the presence or absence of a text by matching it with a particular pattern, and also can split a pattern into one or more sub-patterns. Python provides a re module that supports the use of regex in Python. Its primary function is to offer a search, where it takes a regular expression and a string. Here, it either returns the first match or else none."
   ]
  },
  {
   "cell_type": "code",
   "execution_count": 1,
   "id": "caed0ea8",
   "metadata": {},
   "outputs": [
    {
     "name": "stdout",
     "output_type": "stream",
     "text": [
      "Start Index: 34\n",
      "End Index: 40\n"
     ]
    }
   ],
   "source": [
    "import re\n",
    " \n",
    "s = 'BoardInfinity: A computer science portal for learners'\n",
    " \n",
    "match = re.search(r'portal', s)\n",
    " \n",
    "print('Start Index:', match.start())\n",
    "print('End Index:', match.end())"
   ]
  },
  {
   "cell_type": "raw",
   "id": "6bf89c9c",
   "metadata": {},
   "source": [
    "The above code gives the starting index and the ending index of the string portal. \n",
    "\n",
    "Note: Here r character (r’portal’) stands for raw, not regex. The raw string is slightly different from a regular string, it won’t interpret the \\ character as an escape character. This is because the regular expression engine uses \\ character for its own escaping purpose."
   ]
  },
  {
   "cell_type": "markdown",
   "id": "daccc534",
   "metadata": {},
   "source": [
    "# MetaCharacters"
   ]
  },
  {
   "cell_type": "raw",
   "id": "41f6ecd6",
   "metadata": {},
   "source": [
    "MetaCharacters\tDescription\n",
    "\n",
    "\\\tUsed to drop the special meaning of character following it\n",
    "[]\tRepresent a character class\n",
    "^\tMatches the beginning\n",
    "$\tMatches the end\n",
    ".\tMatches any character except newline\n",
    "|\tMeans OR (Matches with any of the characters separated by it.\n",
    "?\tMatches zero or one occurrence\n",
    "*\tAny number of occurrences (including 0 occurrences)\n",
    "+\tOne or more occurrences\n",
    "{}\tIndicate the number of occurrences of a preceding regex to match.\n",
    "()\tEnclose a group of Regex"
   ]
  },
  {
   "cell_type": "markdown",
   "id": "69f2c0c8",
   "metadata": {},
   "source": [
    "# \\ – Backslash\n",
    "\n",
    "The backslash (\\) makes sure that the character is not treated in a special way. This can be considered a way of escaping metacharacters. For example, if you want to search for the dot(.) in the string then you will find that dot(.) will be treated as a special character as is one of the metacharacters (as shown in the above table). So for this case, we will use the backslash(\\) just before the dot(.) so that it will lose its specialty. See the below example for a better understanding."
   ]
  },
  {
   "cell_type": "code",
   "execution_count": 2,
   "id": "05c6ca19",
   "metadata": {},
   "outputs": [
    {
     "name": "stdout",
     "output_type": "stream",
     "text": [
      "<re.Match object; span=(0, 1), match='g'>\n",
      "<re.Match object; span=(5, 6), match='.'>\n"
     ]
    }
   ],
   "source": [
    "import re\n",
    " \n",
    "s = 'geeks.forgeeks'\n",
    " \n",
    "# without using \\\n",
    "match = re.search(r'.', s)\n",
    "print(match)\n",
    " \n",
    "# using \\\n",
    "match = re.search(r'\\.', s)\n",
    "print(match)"
   ]
  },
  {
   "cell_type": "raw",
   "id": "7a2ec133",
   "metadata": {},
   "source": [
    "[] – Square Brackets\n",
    "Square Brackets ([]) represent a character class consisting of a set of characters that we wish to match. For example, the character class [abc] will match any single a, b, or c. \n",
    "\n",
    "We can also specify a range of characters using – inside the square brackets. For example, \n",
    "\n",
    "[0, 3] is sample as [0123]\n",
    "[a-c] is same as [abc]\n",
    "We can also invert the character class using the caret(^) symbol. For example, \n",
    "\n",
    "[^0-3] means any number except 0, 1, 2, or 3\n",
    "[^a-c] means any character except a, b, or c"
   ]
  },
  {
   "cell_type": "raw",
   "id": "837f2525",
   "metadata": {},
   "source": [
    "^ – Caret\n",
    "Caret (^) symbol matches the beginning of the string i.e. checks whether the string starts with the given character(s) or not. For example –  \n",
    "\n",
    "^g will check if the string starts with g such as geeks, globe, girl, g, etc.\n",
    "^ge will check if the string starts with ge such as geeks, geeksforgeeks, etc."
   ]
  },
  {
   "cell_type": "markdown",
   "id": "27f0f5d2",
   "metadata": {},
   "source": [
    "# re.sub() \n",
    "The ‘sub’ in the function stands for SubString, a certain regular expression pattern is searched in the given string(3rd parameter), and upon finding the substring pattern is replaced by repl(2nd parameter), count checks and maintains the number of times this occurs. "
   ]
  },
  {
   "cell_type": "raw",
   "id": "948440e1",
   "metadata": {},
   "source": [
    "Syntax :  re.sub(pattern, repl, string, count=0, flags=0)"
   ]
  },
  {
   "cell_type": "code",
   "execution_count": 3,
   "id": "fb2c4ba9",
   "metadata": {},
   "outputs": [
    {
     "name": "stdout",
     "output_type": "stream",
     "text": [
      "S~*ject has ~*er booked already\n",
      "S~*ject has Uber booked already\n",
      "S~*ject has Uber booked already\n",
      "Baked Beans & Spam\n"
     ]
    }
   ],
   "source": [
    "\n",
    "import re\n",
    " \n",
    "# Regular Expression pattern 'ub' matches the\n",
    "# string at \"Subject\" and \"Uber\". As the CASE\n",
    "# has been ignored, using Flag, 'ub' should\n",
    "# match twice with the string Upon matching,\n",
    "# 'ub' is replaced by '~*' in \"Subject\", and\n",
    "# in \"Uber\", 'Ub' is replaced.\n",
    "print(re.sub('ub', '~*', 'Subject has Uber booked already',\n",
    "             flags=re.IGNORECASE))\n",
    " \n",
    "# Consider the Case Sensitivity, 'Ub' in\n",
    "# \"Uber\", will not be replaced.\n",
    "print(re.sub('ub', '~*', 'Subject has Uber booked already'))\n",
    " \n",
    "# As count has been given value 1, the maximum\n",
    "# times replacement occurs is 1\n",
    "print(re.sub('ub', '~*', 'Subject has Uber booked already',\n",
    "             count=1, flags=re.IGNORECASE))\n",
    " \n",
    "# 'r' before the pattern denotes RE, \\s is for\n",
    "# start and end of a String.\n",
    "print(re.sub(r'\\sAND\\s', ' & ', 'Baked Beans And Spam',\n",
    "             flags=re.IGNORECASE))"
   ]
  },
  {
   "cell_type": "code",
   "execution_count": null,
   "id": "acb4a1b2",
   "metadata": {},
   "outputs": [],
   "source": []
  }
 ],
 "metadata": {
  "kernelspec": {
   "display_name": "Python 3 (ipykernel)",
   "language": "python",
   "name": "python3"
  },
  "language_info": {
   "codemirror_mode": {
    "name": "ipython",
    "version": 3
   },
   "file_extension": ".py",
   "mimetype": "text/x-python",
   "name": "python",
   "nbconvert_exporter": "python",
   "pygments_lexer": "ipython3",
   "version": "3.9.7"
  }
 },
 "nbformat": 4,
 "nbformat_minor": 5
}
