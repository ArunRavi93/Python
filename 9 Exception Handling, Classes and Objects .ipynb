{
 "cells": [
  {
   "cell_type": "markdown",
   "metadata": {},
   "source": [
    "# Exception Handling\n",
    "\n",
    ">Exception is an abnormal condition in a program. Exceptions are raised when the program is syntactically correct, but the code resulted in an error. This error does not stop the execution of the program, however, it changes the normal flow of the program.\n",
    "\n",
    ">It is a run time error.\n",
    "\n",
    ">If we raise an exception, we can prevent the program from crashing.\n",
    "\n",
    "> Syntax error , Compile time error, Run time error , Semantic error, Logical error\n",
    "\n",
    "> Syntax error : mistake in teh source code, such as spelling,punctuation, etc. this error will occur if you not following the rules of program\n",
    "\n",
    "> Compile Time error : Errors that occur when you violate the rules of writing syntax are known as Compile-Time errors. This compiler error indicates something that must be fixed before the code can be compiled\n",
    "\n",
    "> Compiler : A compiler is special program that translates the programming language source code into machine understandable code.\n",
    "\n",
    "> Run time error : A run-time error happens when Python understands what you are saying, but runs into trouble when following your instructions\n",
    "\n",
    "> Normal lines and critical code"
   ]
  },
  {
   "cell_type": "markdown",
   "metadata": {},
   "source": [
    "Built-in Exceptions for Python\n",
    "--\n",
    "\n",
    "Exception - Base class for all exceptions\n",
    "\n",
    "ArithmeticError - numeric caluclations\n",
    "\n",
    "OverflowError - maximum limit for numeric type\n",
    "\n",
    "ZeroDivisionError - divide by zero\n",
    "\n",
    "ImportError - when import fails\n",
    "\n",
    "KeyboardInterrupt - usually when the user interrupts the program execution by pressing Ctrl+c\n",
    "\n",
    "IndexError - index not found in the sequence\n",
    "\n",
    "KeyError - key not found in the sequence\n",
    "\n",
    "OSError - OS related errors\n",
    "\n",
    "ValueError, TypeError and so on."
   ]
  },
  {
   "cell_type": "code",
   "execution_count": 3,
   "metadata": {},
   "outputs": [
    {
     "ename": "SyntaxError",
     "evalue": "unexpected character after line continuation character (Temp/ipykernel_1480/3423279509.py, line 4)",
     "output_type": "error",
     "traceback": [
      "\u001b[1;36m  File \u001b[1;32m\"C:\\Users\\arun_r2\\AppData\\Local\\Temp/ipykernel_1480/3423279509.py\"\u001b[1;36m, line \u001b[1;32m4\u001b[0m\n\u001b[1;33m    c = a\\b # this is syntax error\u001b[0m\n\u001b[1;37m                                 ^\u001b[0m\n\u001b[1;31mSyntaxError\u001b[0m\u001b[1;31m:\u001b[0m unexpected character after line continuation character\n"
     ]
    }
   ],
   "source": [
    "a = 10\n",
    "b = 20\n",
    "\n",
    "c = a\\b # this is syntax error\n",
    "\n",
    "print(c)"
   ]
  },
  {
   "cell_type": "code",
   "execution_count": 1,
   "metadata": {},
   "outputs": [
    {
     "ename": "ZeroDivisionError",
     "evalue": "division by zero",
     "output_type": "error",
     "traceback": [
      "\u001b[1;31m---------------------------------------------------------------------------\u001b[0m",
      "\u001b[1;31mZeroDivisionError\u001b[0m                         Traceback (most recent call last)",
      "\u001b[1;32m~\\AppData\\Local\\Temp/ipykernel_12984/1087801172.py\u001b[0m in \u001b[0;36m<module>\u001b[1;34m\u001b[0m\n\u001b[0;32m      2\u001b[0m \u001b[0mb\u001b[0m \u001b[1;33m=\u001b[0m \u001b[1;36m0\u001b[0m\u001b[1;33m\u001b[0m\u001b[1;33m\u001b[0m\u001b[0m\n\u001b[0;32m      3\u001b[0m \u001b[1;33m\u001b[0m\u001b[0m\n\u001b[1;32m----> 4\u001b[1;33m \u001b[0mc\u001b[0m \u001b[1;33m=\u001b[0m \u001b[0ma\u001b[0m\u001b[1;33m/\u001b[0m\u001b[0mb\u001b[0m \u001b[1;31m# this is runtime error\u001b[0m\u001b[1;33m\u001b[0m\u001b[1;33m\u001b[0m\u001b[0m\n\u001b[0m",
      "\u001b[1;31mZeroDivisionError\u001b[0m: division by zero"
     ]
    }
   ],
   "source": [
    "a = 10\n",
    "b = 0\n",
    "\n",
    "c = a/b # this is runtime error"
   ]
  },
  {
   "cell_type": "code",
   "execution_count": 5,
   "metadata": {},
   "outputs": [
    {
     "name": "stdout",
     "output_type": "stream",
     "text": [
      "Enter 1st number:5\n",
      "Enter 2nd number:p\n"
     ]
    },
    {
     "ename": "ValueError",
     "evalue": "could not convert string to float: 'p'",
     "output_type": "error",
     "traceback": [
      "\u001b[1;31m---------------------------------------------------------------------------\u001b[0m",
      "\u001b[1;31mValueError\u001b[0m                                Traceback (most recent call last)",
      "\u001b[1;32m~\\AppData\\Local\\Temp/ipykernel_1480/2505154999.py\u001b[0m in \u001b[0;36m<module>\u001b[1;34m\u001b[0m\n\u001b[0;32m      1\u001b[0m \u001b[0ma\u001b[0m\u001b[1;33m=\u001b[0m\u001b[0mfloat\u001b[0m\u001b[1;33m(\u001b[0m\u001b[0minput\u001b[0m\u001b[1;33m(\u001b[0m\u001b[1;34m\"Enter 1st number:\"\u001b[0m\u001b[1;33m)\u001b[0m\u001b[1;33m)\u001b[0m\u001b[1;33m\u001b[0m\u001b[1;33m\u001b[0m\u001b[0m\n\u001b[1;32m----> 2\u001b[1;33m \u001b[0mb\u001b[0m\u001b[1;33m=\u001b[0m\u001b[0mfloat\u001b[0m\u001b[1;33m(\u001b[0m\u001b[0minput\u001b[0m\u001b[1;33m(\u001b[0m\u001b[1;34m\"Enter 2nd number:\"\u001b[0m\u001b[1;33m)\u001b[0m\u001b[1;33m)\u001b[0m\u001b[1;33m\u001b[0m\u001b[1;33m\u001b[0m\u001b[0m\n\u001b[0m\u001b[0;32m      3\u001b[0m \u001b[0mc\u001b[0m\u001b[1;33m=\u001b[0m\u001b[0ma\u001b[0m\u001b[1;33m/\u001b[0m\u001b[0mb\u001b[0m\u001b[1;33m\u001b[0m\u001b[1;33m\u001b[0m\u001b[0m\n\u001b[0;32m      4\u001b[0m \u001b[0mprint\u001b[0m\u001b[1;33m(\u001b[0m\u001b[1;34m\"Division of a=\"\u001b[0m\u001b[1;33m,\u001b[0m\u001b[0ma\u001b[0m\u001b[1;33m,\u001b[0m\u001b[1;34m\"and b=\"\u001b[0m\u001b[1;33m,\u001b[0m\u001b[0mb\u001b[0m\u001b[1;33m,\u001b[0m\u001b[1;34m\"is c=\"\u001b[0m\u001b[1;33m,\u001b[0m\u001b[0mround\u001b[0m\u001b[1;33m(\u001b[0m\u001b[0mc\u001b[0m\u001b[1;33m,\u001b[0m\u001b[1;36m2\u001b[0m\u001b[1;33m)\u001b[0m\u001b[1;33m)\u001b[0m\u001b[1;33m\u001b[0m\u001b[1;33m\u001b[0m\u001b[0m\n",
      "\u001b[1;31mValueError\u001b[0m: could not convert string to float: 'p'"
     ]
    }
   ],
   "source": [
    "a=float(input(\"Enter 1st number:\"))\n",
    "b=float(input(\"Enter 2nd number:\"))\n",
    "c=a/b\n",
    "print(\"Division of a=\",a,\"and b=\",b,\"is c=\",round(c,2))"
   ]
  },
  {
   "cell_type": "markdown",
   "metadata": {},
   "source": [
    "# Try and except\n",
    "\n",
    "> Try and except statements are used to catch and handle exceptions in python \n",
    "\n",
    "> Statements that can raise exceptions are kept inside the try block (Statements that can go wrong)\n",
    "\n",
    "> the statements that handle exception are written inside except block"
   ]
  },
  {
   "cell_type": "code",
   "execution_count": 6,
   "metadata": {},
   "outputs": [
    {
     "name": "stdout",
     "output_type": "stream",
     "text": [
      "Enter 1st number:5\n",
      "Enter 2nd number:0\n",
      "Something is wrong. Please try again.\n",
      "Enter 1st number:5\n",
      "Enter 2nd number:a\n",
      "Something is wrong. Please try again.\n",
      "Enter 1st number:5\n",
      "Enter 2nd number:1\n",
      "Division of a= 5.0 and b= 1.0 is c= 5.0\n"
     ]
    }
   ],
   "source": [
    "while True:\n",
    "    try: # whatever line can create an error put them in try block\n",
    "        a=float(input(\"Enter 1st number:\"))\n",
    "        b=float(input(\"Enter 2nd number:\"))\n",
    "        c=a/b\n",
    "        print(\"Division of a=\",a,\"and b=\",b,\"is c=\",round(c,2))\n",
    "        break\n",
    "    except Exception: # this is father of all exceptions. this will be called only when thing go wrong\n",
    "        print(\"Something is wrong. Please try again.\")"
   ]
  },
  {
   "cell_type": "code",
   "execution_count": 7,
   "metadata": {},
   "outputs": [
    {
     "name": "stdout",
     "output_type": "stream",
     "text": [
      "Enter 1st number:5\n",
      "Enter 2nd number:0\n",
      "2nd input cannot be zero. Please try again.\n",
      "Enter 1st number:5\n",
      "Enter 2nd number:p\n",
      "Input must be a number. Please try again.\n",
      "Enter 1st number:5\n",
      "Enter 2nd number:5\n",
      "Division of a= 5.0 and b= 5.0 is c= 1.0\n"
     ]
    }
   ],
   "source": [
    "while True:\n",
    "    try:\n",
    "        a=float(input(\"Enter 1st number:\"))\n",
    "        b=float(input(\"Enter 2nd number:\"))\n",
    "        c=a/b\n",
    "        print(\"Division of a=\",a,\"and b=\",b,\"is c=\",round(c,2))\n",
    "        break\n",
    "    except ZeroDivisionError:\n",
    "        print(\"2nd input cannot be zero. Please try again.\")\n",
    "    except ValueError:\n",
    "        print(\"Input must be a number. Please try again.\")"
   ]
  },
  {
   "cell_type": "markdown",
   "metadata": {},
   "source": [
    "try - except\n",
    "--"
   ]
  },
  {
   "cell_type": "code",
   "execution_count": null,
   "metadata": {
    "scrolled": true
   },
   "outputs": [],
   "source": [
    "\n",
    "\n",
    "\n"
   ]
  },
  {
   "cell_type": "code",
   "execution_count": null,
   "metadata": {},
   "outputs": [],
   "source": [
    "\n",
    "\n",
    "\n"
   ]
  },
  {
   "cell_type": "markdown",
   "metadata": {},
   "source": [
    "# try - except - else\n",
    "\n",
    "\n",
    "> In python you can also use the else clause on the try-except block which must be present after all the except clause. \n",
    "\n",
    "> The code enter the else block only if the try clause doesnt raise an exception"
   ]
  },
  {
   "cell_type": "code",
   "execution_count": 3,
   "metadata": {},
   "outputs": [
    {
     "name": "stdout",
     "output_type": "stream",
     "text": [
      "Enter 1st number:5\n",
      "Enter 2nd number:2\n",
      "Division of a= 5.0 and b= 2.0 is c= 2.5\n"
     ]
    }
   ],
   "source": [
    "    try:\n",
    "        a=float(input(\"Enter 1st number:\"))\n",
    "        b=float(input(\"Enter 2nd number:\"))\n",
    "        c=a/b\n",
    "    except ZeroDivisionError:\n",
    "        print(\"2nd input cannot be zero. Please try again.\")\n",
    "    except ValueError:\n",
    "        print(\"Input must be a number. Please try again.\")\n",
    "    else:\n",
    "        print(\"Division of a=\",a,\"and b=\",b,\"is c=\",round(c,2)) # since print is normal line\n",
    "        # we remove print from try block and pushed into else "
   ]
  },
  {
   "cell_type": "code",
   "execution_count": 22,
   "metadata": {},
   "outputs": [
    {
     "name": "stdout",
     "output_type": "stream",
     "text": [
      "Enter 1st number:r\n",
      "Input must be a number. Please try again.\n",
      "Enter 1st number:6\n",
      "Enter 2nd number:u\n",
      "Input must be a number. Please try again.\n",
      "Enter 1st number:24\n",
      "Enter 2nd number:0\n",
      "2nd input cannot be zero. Please try again.\n",
      "Enter 1st number:7\n",
      "Enter 2nd number:4\n",
      "Division of a= 7.0 and b= 4.0 is c= 1.75\n"
     ]
    }
   ],
   "source": [
    "while True:\n",
    "    try:\n",
    "        a=float(input(\"Enter 1st number:\"))\n",
    "        b=float(input(\"Enter 2nd number:\"))\n",
    "        c=a/b\n",
    "    except ZeroDivisionError:\n",
    "        print(\"2nd input cannot be zero. Please try again.\")\n",
    "    except ValueError:\n",
    "        print(\"Input must be a number. Please try again.\")\n",
    "    except Exception:\n",
    "        print(\"Something is wrong. Please try again.\")\n",
    "    else:\n",
    "        print(\"Division of a=\",a,\"and b=\",b,\"is c=\",round(c,2))\n",
    "        break"
   ]
  },
  {
   "cell_type": "code",
   "execution_count": 26,
   "metadata": {},
   "outputs": [
    {
     "name": "stdout",
     "output_type": "stream",
     "text": [
      "Enter a no: 6\n",
      "Answer is:  16.666666666666668\n"
     ]
    }
   ],
   "source": [
    "try:\n",
    "    x=int(input(\"Enter a no: \"))\n",
    "    ans=100/x\n",
    "except ValueError:\n",
    "    print(\"Value is not int type\")\n",
    "except ZeroDivisionError:\n",
    "    print(\"Dont use a zero.\")\n",
    "else:\n",
    "    print(\"Answer is: \",ans)"
   ]
  },
  {
   "cell_type": "markdown",
   "metadata": {},
   "source": [
    "except with multiple attributes\n",
    "--"
   ]
  },
  {
   "cell_type": "code",
   "execution_count": 29,
   "metadata": {},
   "outputs": [
    {
     "name": "stdout",
     "output_type": "stream",
     "text": [
      "Enter a no: darshan\n",
      "Something is wrong. Please try again\n"
     ]
    }
   ],
   "source": [
    "try:\n",
    "    x=int(input(\"Enter a no: \"))\n",
    "    ans=100/x\n",
    "except (ValueError,ZeroDivisionError):\n",
    "    print(\"Something is wrong. Please try again\")\n",
    "else:\n",
    "    print(\"Answer is: \",ans)"
   ]
  },
  {
   "cell_type": "markdown",
   "metadata": {},
   "source": [
    "# try - finally\n",
    "\n",
    "> Python provides a keyword called finally, which is always executed after the try and except blocks.\n",
    "\n",
    "> The finally block always executed after normal termination of try block or after try block terminates due to some exception\n",
    "\n",
    "> This will execute irrespective of whether an exception is genrated or not"
   ]
  },
  {
   "cell_type": "code",
   "execution_count": 4,
   "metadata": {},
   "outputs": [
    {
     "name": "stdout",
     "output_type": "stream",
     "text": [
      "Enter a no: 0\n",
      "Dont use a zero.\n",
      "End of Program.\n",
      "By hook or crook, I will be executed for sure.\n"
     ]
    }
   ],
   "source": [
    "try:\n",
    "    x=int(input(\"Enter a no: \"))\n",
    "    ans=100/x\n",
    "except ValueError:\n",
    "    print(\"Value is not int type\")\n",
    "except ZeroDivisionError:\n",
    "    print(\"Dont use a zero.\")\n",
    "else:\n",
    "    print(\"Answer is: \",ans)\n",
    "finally:  # for example this is used in file handling. before crashing save and close the block\n",
    "    print(\"End of Program.\")\n",
    "    print(\"By hook or crook, I will be executed for sure.\")"
   ]
  },
  {
   "cell_type": "code",
   "execution_count": 12,
   "metadata": {},
   "outputs": [
    {
     "name": "stdout",
     "output_type": "stream",
     "text": [
      "Enter 1st number:56\n",
      "Enter 2nd number:0\n",
      "Dont use a zero in denominator\n",
      "End of Program.\n",
      "By hook or crook, I will be executed for sure.\n"
     ]
    }
   ],
   "source": [
    "      \n",
    "try:\n",
    "    a=float(input(\"Enter 1st number:\"))\n",
    "    b=float(input(\"Enter 2nd number:\"))\n",
    "    c=a/b\n",
    "except ValueError:\n",
    "    print(\"Value is not int type\")\n",
    "except ZeroDivisionError:\n",
    "    print(\"Dont use a zero in denominator\")\n",
    "else:\n",
    "    print(\"Answer is: \",ans)\n",
    "finally:  # for example this is used in file handling. before crashing save and close the block\n",
    "    print(\"End of Program.\")\n",
    "    print(\"By hook or crook, I will be executed for sure.\")"
   ]
  },
  {
   "cell_type": "markdown",
   "metadata": {},
   "source": [
    "finally with multiple except\n",
    "--"
   ]
  },
  {
   "cell_type": "code",
   "execution_count": null,
   "metadata": {},
   "outputs": [],
   "source": [
    "try:\n",
    "    x=int(input(\"Enter a no: \"))\n",
    "    ans=100/x\n",
    "except (ValueError,ZeroDivisionError):\n",
    "    print(\"Something is wrong. Please try again\")\n",
    "else:\n",
    "    print(\"Answer is: \",ans)\n",
    "finally:\n",
    "    print(\"End of Program.\")\n",
    "    print(\"By hook or crook, I will be executed for sure.\")"
   ]
  },
  {
   "cell_type": "markdown",
   "metadata": {},
   "source": [
    "raising exceptions\n",
    "--"
   ]
  },
  {
   "cell_type": "code",
   "execution_count": 40,
   "metadata": {},
   "outputs": [
    {
     "name": "stdout",
     "output_type": "stream",
     "text": [
      "Enter a number:2\n",
      "An IO Exception is raised\n"
     ]
    }
   ],
   "source": [
    "val = int(input(\"Enter a number:\"))\n",
    "try:\n",
    "    if val==2:\n",
    "        raise IOError\n",
    "    else:\n",
    "        print(\"Value is not 2\")\n",
    "except IOError:\n",
    "    print(\"An IO Exception is raised\")"
   ]
  },
  {
   "cell_type": "markdown",
   "metadata": {},
   "source": [
    "exception with arguments\n",
    "--"
   ]
  },
  {
   "cell_type": "code",
   "execution_count": 47,
   "metadata": {},
   "outputs": [
    {
     "name": "stdout",
     "output_type": "stream",
     "text": [
      "Enter a no: darshan\n",
      "Exception caught is: invalid literal for int() with base 10: 'darshan'\n",
      "Type of the exception which is caught is: <class 'ValueError'>\n"
     ]
    }
   ],
   "source": [
    "try:\n",
    "    x=int(input(\"Enter a no: \"))\n",
    "    ans=100/x\n",
    "except Exception as e:\n",
    "    print(\"Exception caught is:\",e)\n",
    "    print(\"Type of the exception which is caught is:\",type(e))\n",
    "else:\n",
    "    print(\"Answer is: \",ans)"
   ]
  },
  {
   "cell_type": "markdown",
   "metadata": {},
   "source": [
    "# Classed and Objects\n",
    "\n",
    "> It is a way to attain object oriented programming\n",
    "\n",
    "> Object is instance of a class\n",
    "\n",
    "> class is template of an object"
   ]
  },
  {
   "cell_type": "raw",
   "metadata": {},
   "source": [
    "Syntax of creating a class\n",
    "class class_name:\n",
    "    stmnt1\n",
    "    stmnt2\n",
    "    stmnt3"
   ]
  },
  {
   "cell_type": "code",
   "execution_count": 6,
   "metadata": {},
   "outputs": [],
   "source": [
    "class college:\n",
    "    Name = \"\"\n",
    "    Marks = 0\n",
    "    Gender = \"\""
   ]
  },
  {
   "cell_type": "code",
   "execution_count": 7,
   "metadata": {},
   "outputs": [
    {
     "data": {
      "text/plain": [
       "<__main__.college at 0x1bfa65fafd0>"
      ]
     },
     "execution_count": 7,
     "metadata": {},
     "output_type": "execute_result"
    }
   ],
   "source": [
    "s1 = college()\n",
    "s1 # S1 is created and it is stored in a particular address displayed"
   ]
  },
  {
   "cell_type": "code",
   "execution_count": 8,
   "metadata": {},
   "outputs": [
    {
     "name": "stdout",
     "output_type": "stream",
     "text": [
      "<class '__main__.college'>\n"
     ]
    }
   ],
   "source": [
    "print(type(s1))"
   ]
  },
  {
   "cell_type": "code",
   "execution_count": 11,
   "metadata": {},
   "outputs": [
    {
     "name": "stdout",
     "output_type": "stream",
     "text": [
      "<class 'tuple'>\n"
     ]
    }
   ],
   "source": [
    "a = (1,2,3,4,5)\n",
    "print(type(a))"
   ]
  },
  {
   "cell_type": "code",
   "execution_count": 12,
   "metadata": {},
   "outputs": [
    {
     "name": "stdout",
     "output_type": "stream",
     "text": [
      "Mike 90 M\n"
     ]
    }
   ],
   "source": [
    "s1 = college()\n",
    "s1.Name = \"Mike\"\n",
    "s1.Marks = 90\n",
    "s1.Gender = 'M'\n",
    "\n",
    "print(s1.Name,s1.Marks,s1.Gender)"
   ]
  },
  {
   "cell_type": "code",
   "execution_count": 13,
   "metadata": {},
   "outputs": [
    {
     "name": "stdout",
     "output_type": "stream",
     "text": [
      "Adrian 46 M\n",
      "Cheryl 92 F\n"
     ]
    }
   ],
   "source": [
    "# Similarly you can create multiple objects\n",
    "\n",
    "s2 = college()\n",
    "s2.Name = \"Adrian\"\n",
    "s2.Marks = 46\n",
    "s2.Gender = 'M'\n",
    "\n",
    "print(s2.Name,s2.Marks,s2.Gender)\n",
    "\n",
    "s3 = college()\n",
    "s3.Name = \"Cheryl\"\n",
    "s3.Marks = 92\n",
    "s3.Gender = 'F'\n",
    "\n",
    "print(s3.Name,s3.Marks,s3.Gender)"
   ]
  },
  {
   "cell_type": "code",
   "execution_count": 14,
   "metadata": {},
   "outputs": [
    {
     "data": {
      "text/plain": [
       "''"
      ]
     },
     "execution_count": 14,
     "metadata": {},
     "output_type": "execute_result"
    }
   ],
   "source": [
    "college.Name"
   ]
  },
  {
   "cell_type": "code",
   "execution_count": 16,
   "metadata": {},
   "outputs": [],
   "source": [
    "college.name = \"fffff\""
   ]
  },
  {
   "cell_type": "code",
   "execution_count": 24,
   "metadata": {},
   "outputs": [],
   "source": [
    "# Simple Class demonstraition\n",
    "\n",
    "class abc:\n",
    "    x = 0\n",
    "    def show(self):  # show self is mandatory while writing a method in class. If you remove self \n",
    "        # it will give an error\n",
    "        print(\"hello all\")"
   ]
  },
  {
   "cell_type": "code",
   "execution_count": 25,
   "metadata": {},
   "outputs": [],
   "source": [
    "s = abc()"
   ]
  },
  {
   "cell_type": "code",
   "execution_count": 16,
   "metadata": {},
   "outputs": [
    {
     "data": {
      "text/plain": [
       "0"
      ]
     },
     "execution_count": 16,
     "metadata": {},
     "output_type": "execute_result"
    }
   ],
   "source": [
    "s.x"
   ]
  },
  {
   "cell_type": "code",
   "execution_count": 17,
   "metadata": {},
   "outputs": [],
   "source": [
    "s.x = 100"
   ]
  },
  {
   "cell_type": "code",
   "execution_count": 18,
   "metadata": {},
   "outputs": [
    {
     "data": {
      "text/plain": [
       "100"
      ]
     },
     "execution_count": 18,
     "metadata": {},
     "output_type": "execute_result"
    }
   ],
   "source": [
    "s.x"
   ]
  },
  {
   "cell_type": "code",
   "execution_count": 26,
   "metadata": {},
   "outputs": [
    {
     "name": "stdout",
     "output_type": "stream",
     "text": [
      "hello all\n"
     ]
    }
   ],
   "source": [
    "s.show()"
   ]
  },
  {
   "cell_type": "markdown",
   "metadata": {},
   "source": [
    "# Self attribute\n",
    "\n",
    "the first attribute of every class method is always a reference to the current instance of the class\n",
    "\n",
    "By convention, this argument is name as 'self'\n",
    "\n",
    "Self is not a reserved keyword in python, it is just a strong convention"
   ]
  },
  {
   "cell_type": "code",
   "execution_count": 27,
   "metadata": {},
   "outputs": [
    {
     "name": "stdout",
     "output_type": "stream",
     "text": [
      "Hello Board Infinity\n",
      "Hello 100\n",
      "Hello 121\n"
     ]
    }
   ],
   "source": [
    "class xyz:\n",
    "    def abc(self, n):\n",
    "        print(\"Hello\", n)\n",
    "\n",
    "s = xyz()\n",
    "s.abc(\"Board Infinity\")\n",
    "s.abc(100)\n",
    "s.abc(121)\n",
    "\n"
   ]
  },
  {
   "cell_type": "code",
   "execution_count": 30,
   "metadata": {},
   "outputs": [
    {
     "name": "stdout",
     "output_type": "stream",
     "text": [
      "101\n"
     ]
    },
    {
     "ename": "AttributeError",
     "evalue": "'xyz' object has no attribute 'n'",
     "output_type": "error",
     "traceback": [
      "\u001b[1;31m---------------------------------------------------------------------------\u001b[0m",
      "\u001b[1;31mAttributeError\u001b[0m                            Traceback (most recent call last)",
      "\u001b[1;32m~\\AppData\\Local\\Temp/ipykernel_9748/1137449347.py\u001b[0m in \u001b[0;36m<module>\u001b[1;34m\u001b[0m\n\u001b[0;32m      9\u001b[0m \u001b[1;33m\u001b[0m\u001b[0m\n\u001b[0;32m     10\u001b[0m \u001b[0ms\u001b[0m \u001b[1;33m=\u001b[0m \u001b[0mxyz\u001b[0m\u001b[1;33m(\u001b[0m\u001b[1;33m)\u001b[0m\u001b[1;33m\u001b[0m\u001b[1;33m\u001b[0m\u001b[0m\n\u001b[1;32m---> 11\u001b[1;33m \u001b[0ms\u001b[0m\u001b[1;33m.\u001b[0m\u001b[0mabc\u001b[0m\u001b[1;33m(\u001b[0m\u001b[1;36m100\u001b[0m\u001b[1;33m)\u001b[0m\u001b[1;33m\u001b[0m\u001b[1;33m\u001b[0m\u001b[0m\n\u001b[0m\u001b[0;32m     12\u001b[0m \u001b[1;33m\u001b[0m\u001b[0m\n\u001b[0;32m     13\u001b[0m \u001b[1;33m\u001b[0m\u001b[0m\n",
      "\u001b[1;32m~\\AppData\\Local\\Temp/ipykernel_9748/1137449347.py\u001b[0m in \u001b[0;36mabc\u001b[1;34m(self, n)\u001b[0m\n\u001b[0;32m      6\u001b[0m         \u001b[0mn\u001b[0m \u001b[1;33m=\u001b[0m \u001b[0mn\u001b[0m\u001b[1;33m+\u001b[0m\u001b[1;36m1\u001b[0m\u001b[1;33m\u001b[0m\u001b[1;33m\u001b[0m\u001b[0m\n\u001b[0;32m      7\u001b[0m         \u001b[0mprint\u001b[0m\u001b[1;33m(\u001b[0m\u001b[0mn\u001b[0m\u001b[1;33m)\u001b[0m\u001b[1;33m\u001b[0m\u001b[1;33m\u001b[0m\u001b[0m\n\u001b[1;32m----> 8\u001b[1;33m         \u001b[0mprint\u001b[0m\u001b[1;33m(\u001b[0m\u001b[0mself\u001b[0m\u001b[1;33m.\u001b[0m\u001b[0mn\u001b[0m\u001b[1;33m)\u001b[0m\u001b[1;33m\u001b[0m\u001b[1;33m\u001b[0m\u001b[0m\n\u001b[0m\u001b[0;32m      9\u001b[0m \u001b[1;33m\u001b[0m\u001b[0m\n\u001b[0;32m     10\u001b[0m \u001b[0ms\u001b[0m \u001b[1;33m=\u001b[0m \u001b[0mxyz\u001b[0m\u001b[1;33m(\u001b[0m\u001b[1;33m)\u001b[0m\u001b[1;33m\u001b[0m\u001b[1;33m\u001b[0m\u001b[0m\n",
      "\u001b[1;31mAttributeError\u001b[0m: 'xyz' object has no attribute 'n'"
     ]
    }
   ],
   "source": [
    "# this will show another use of class\n",
    "# this will show an error . in next cless show how using self we can solve\n",
    "\n",
    "class xyz:\n",
    "    def abc(self, n):\n",
    "        n = n+1\n",
    "        print(n)\n",
    "        print(self.n)\n",
    "\n",
    "s = xyz()\n",
    "s.abc(100)\n",
    "\n",
    "\n"
   ]
  },
  {
   "cell_type": "code",
   "execution_count": 31,
   "metadata": {},
   "outputs": [
    {
     "name": "stdout",
     "output_type": "stream",
     "text": [
      "100\n",
      "101\n"
     ]
    }
   ],
   "source": [
    "class xyz:\n",
    "    def abc(self, n):\n",
    "        self.n = n+1  # wheneva we want to point to the current instance of the class we use self\n",
    "        print(n)\n",
    "        print(self.n)\n",
    "\n",
    "s = xyz()\n",
    "s.abc(100)"
   ]
  },
  {
   "cell_type": "code",
   "execution_count": 33,
   "metadata": {},
   "outputs": [
    {
     "name": "stdout",
     "output_type": "stream",
     "text": [
      "100\n",
      "101\n",
      "2\n"
     ]
    },
    {
     "ename": "AttributeError",
     "evalue": "'xyz' object has no attribute 'y'",
     "output_type": "error",
     "traceback": [
      "\u001b[1;31m---------------------------------------------------------------------------\u001b[0m",
      "\u001b[1;31mAttributeError\u001b[0m                            Traceback (most recent call last)",
      "\u001b[1;32m~\\AppData\\Local\\Temp/ipykernel_9748/977216725.py\u001b[0m in \u001b[0;36m<module>\u001b[1;34m\u001b[0m\n\u001b[0;32m     10\u001b[0m \u001b[0ms\u001b[0m\u001b[1;33m.\u001b[0m\u001b[0mabc\u001b[0m\u001b[1;33m(\u001b[0m\u001b[1;36m100\u001b[0m\u001b[1;33m)\u001b[0m\u001b[1;33m\u001b[0m\u001b[1;33m\u001b[0m\u001b[0m\n\u001b[0;32m     11\u001b[0m \u001b[0mprint\u001b[0m\u001b[1;33m(\u001b[0m\u001b[0ms\u001b[0m\u001b[1;33m.\u001b[0m\u001b[0mx\u001b[0m\u001b[1;33m)\u001b[0m\u001b[1;33m\u001b[0m\u001b[1;33m\u001b[0m\u001b[0m\n\u001b[1;32m---> 12\u001b[1;33m \u001b[0mprint\u001b[0m\u001b[1;33m(\u001b[0m\u001b[0ms\u001b[0m\u001b[1;33m.\u001b[0m\u001b[0my\u001b[0m\u001b[1;33m)\u001b[0m\u001b[1;33m\u001b[0m\u001b[1;33m\u001b[0m\u001b[0m\n\u001b[0m\u001b[0;32m     13\u001b[0m \u001b[0mprint\u001b[0m\u001b[1;33m(\u001b[0m\u001b[0ms\u001b[0m\u001b[1;33m.\u001b[0m\u001b[0m__y\u001b[0m\u001b[1;33m)\u001b[0m\u001b[1;33m\u001b[0m\u001b[1;33m\u001b[0m\u001b[0m\n",
      "\u001b[1;31mAttributeError\u001b[0m: 'xyz' object has no attribute 'y'"
     ]
    }
   ],
   "source": [
    "class xyz:\n",
    "    x = 2\n",
    "    __y = 4 # private variable\n",
    "    def abc(self, n):\n",
    "        self.n = n+1  # wheneva we want to point to the current instance of the class we use self\n",
    "        print(n)\n",
    "        print(self.n)\n",
    "\n",
    "s = xyz()\n",
    "s.abc(100)\n",
    "print(s.x)\n",
    "print(s.y)\n",
    "print(s.__y)"
   ]
  },
  {
   "cell_type": "markdown",
   "metadata": {},
   "source": [
    "#  inheritance \n",
    "\n",
    "> Inhereitance will have a base class and a derived class\n",
    "\n",
    "> Animal is base class and Dog is derived class\n",
    "\n",
    "1. Single Inheritance \n",
    "\n",
    "2. Multiple Inheritance\n",
    "\n",
    "3. Multilevel Inheritance\n",
    "\n",
    "4. Hierarchical Inheritance\n",
    "\n",
    "5. Hybrid Inheritance"
   ]
  },
  {
   "cell_type": "code",
   "execution_count": 35,
   "metadata": {},
   "outputs": [],
   "source": [
    "# single heritance\n",
    "\n",
    "class father :\n",
    "    def s1(self):\n",
    "        print(\"Base class\")\n",
    "        \n",
    "class son(father):\n",
    "    def s2(self):\n",
    "        print(\"Derived Class\")\n",
    "        \n",
    "\n"
   ]
  },
  {
   "cell_type": "raw",
   "metadata": {},
   "source": [
    "# in herintance you will always create an object of the lowest class\n",
    "# you will not get an error if you create an object in the base class but it will not have full info # Grandfather = 2 properties, # father = 2 + 3 properties . So father will have max properties # so derived class will have max info so create object of lowest class"
   ]
  },
  {
   "cell_type": "code",
   "execution_count": 38,
   "metadata": {},
   "outputs": [
    {
     "name": "stdout",
     "output_type": "stream",
     "text": [
      "Base class\n",
      "Derived Class\n"
     ]
    }
   ],
   "source": [
    "o = son() # son can access is own properties + is father properties\n",
    "o.s1()\n",
    "o.s2()"
   ]
  },
  {
   "cell_type": "code",
   "execution_count": 41,
   "metadata": {},
   "outputs": [
    {
     "name": "stdout",
     "output_type": "stream",
     "text": [
      "Base class\n"
     ]
    },
    {
     "ename": "AttributeError",
     "evalue": "'father' object has no attribute 's2'",
     "output_type": "error",
     "traceback": [
      "\u001b[1;31m---------------------------------------------------------------------------\u001b[0m",
      "\u001b[1;31mAttributeError\u001b[0m                            Traceback (most recent call last)",
      "\u001b[1;32m~\\AppData\\Local\\Temp/ipykernel_9748/3697084464.py\u001b[0m in \u001b[0;36m<module>\u001b[1;34m\u001b[0m\n\u001b[0;32m      1\u001b[0m \u001b[0mf\u001b[0m \u001b[1;33m=\u001b[0m \u001b[0mfather\u001b[0m\u001b[1;33m(\u001b[0m\u001b[1;33m)\u001b[0m\u001b[1;33m\u001b[0m\u001b[1;33m\u001b[0m\u001b[0m\n\u001b[0;32m      2\u001b[0m \u001b[0mf\u001b[0m\u001b[1;33m.\u001b[0m\u001b[0ms1\u001b[0m\u001b[1;33m(\u001b[0m\u001b[1;33m)\u001b[0m\u001b[1;33m\u001b[0m\u001b[1;33m\u001b[0m\u001b[0m\n\u001b[1;32m----> 3\u001b[1;33m \u001b[0mf\u001b[0m\u001b[1;33m.\u001b[0m\u001b[0ms2\u001b[0m\u001b[1;33m(\u001b[0m\u001b[1;33m)\u001b[0m\u001b[1;33m\u001b[0m\u001b[1;33m\u001b[0m\u001b[0m\n\u001b[0m",
      "\u001b[1;31mAttributeError\u001b[0m: 'father' object has no attribute 's2'"
     ]
    }
   ],
   "source": [
    "f = father()\n",
    "f.s1()\n",
    "f.s2() # 'father' object has no attribute 's2' . because you are in base class"
   ]
  },
  {
   "cell_type": "code",
   "execution_count": 42,
   "metadata": {},
   "outputs": [
    {
     "name": "stdout",
     "output_type": "stream",
     "text": [
      "Base class\n",
      "Derived Class\n"
     ]
    }
   ],
   "source": [
    "f = son()\n",
    "f.s1()\n",
    "f.s2() # now can access both s1 and S2"
   ]
  },
  {
   "cell_type": "code",
   "execution_count": 44,
   "metadata": {},
   "outputs": [
    {
     "name": "stdout",
     "output_type": "stream",
     "text": [
      "num1: 7\n",
      "num2: 10\n"
     ]
    },
    {
     "data": {
      "text/plain": [
       "17"
      ]
     },
     "execution_count": 44,
     "metadata": {},
     "output_type": "execute_result"
    }
   ],
   "source": [
    "# Multiple heritance \n",
    "\n",
    "class st1:\n",
    "    def num1(self):\n",
    "        self.n1 = 7\n",
    "        print(\"num1:\", self.n1)\n",
    "\n",
    "class st2:\n",
    "    def num2(self):\n",
    "        self.n2 = 10\n",
    "        print(\"num2:\", self.n2)\n",
    "        \n",
    "        \n",
    "class st(st1,st2):\n",
    "    def add(self):\n",
    "        return self.n1+self.n2\n",
    "    \n",
    "# for example think of this as st1 as father class, and st2 as mother class and st is son class\n",
    "# son can access both mother and father properties\n",
    "\n",
    "# we shld create object of the derived class to access all the variable\n",
    "s = st()\n",
    "s.num1()\n",
    "s.num2()\n",
    "s.add()\n",
    "    "
   ]
  },
  {
   "cell_type": "markdown",
   "metadata": {},
   "source": [
    "# Method Overriding \n",
    "\n",
    "Method overriding is an ability of any object-oriented programming language that allows a subclass or child class to provide a specific implementation of a method that is already provided by one of its super-classes or parent classes."
   ]
  },
  {
   "cell_type": "code",
   "execution_count": 45,
   "metadata": {},
   "outputs": [],
   "source": [
    "# Method Overriding \n",
    "\n",
    "class T:\n",
    "    def show(self):\n",
    "        print(\"base class method called\")\n",
    "        \n",
    "class S(T):\n",
    "    def sme(self):\n",
    "        print(\"Derived class methon called\")\n",
    "        \n",
    "# here if we call  SME method it will print Derived class called and if we call Show method\n",
    "# it will print Base called .\n",
    "\n",
    "# but the quesiton arrises when we have the method name as same in both base and derived class\n",
    "# like shown in next cell\n",
    "\n"
   ]
  },
  {
   "cell_type": "code",
   "execution_count": 48,
   "metadata": {},
   "outputs": [
    {
     "name": "stdout",
     "output_type": "stream",
     "text": [
      "Derived class methon called\n"
     ]
    }
   ],
   "source": [
    "class T:\n",
    "    def show(self):\n",
    "        print(\"base class method called\")\n",
    "        \n",
    "class S(T):\n",
    "    def show(self):\n",
    "        print(\"Derived class methon called\")\n",
    "        \n",
    "# always remember derived class is always more powerful than the base class so derived class\n",
    "# method will be called\n",
    "\n",
    "\n",
    "v=S()\n",
    "v.show()"
   ]
  },
  {
   "cell_type": "code",
   "execution_count": 49,
   "metadata": {},
   "outputs": [
    {
     "name": "stdout",
     "output_type": "stream",
     "text": [
      "Further Derived class method called\n"
     ]
    }
   ],
   "source": [
    "# lets see with an example of multiple inheritance\n",
    "\n",
    "class T:\n",
    "    def show(self):\n",
    "        print(\"base class method called\")\n",
    "        \n",
    "class S(T):\n",
    "    def show(self):\n",
    "        print(\"Derived class method called\")\n",
    "        \n",
    "class U(T):\n",
    "    def show(self):\n",
    "        print(\"Further Derived class method called\")\n",
    "        \n",
    "# always remember derived class is always more powerful than the base class so derived class\n",
    "# method will be called\n",
    "\n",
    "\n",
    "v = U()\n",
    "v.show()"
   ]
  },
  {
   "cell_type": "markdown",
   "metadata": {},
   "source": [
    "# Map Filter and Lambda\n"
   ]
  },
  {
   "cell_type": "markdown",
   "metadata": {},
   "source": [
    "# Map \n",
    "\n",
    "It applies the given function to all iterables and return new iterable\n"
   ]
  },
  {
   "cell_type": "markdown",
   "metadata": {},
   "source": [
    "# syntax\n",
    "\n",
    "map ( function , iterables)"
   ]
  },
  {
   "cell_type": "code",
   "execution_count": 2,
   "metadata": {},
   "outputs": [
    {
     "name": "stdout",
     "output_type": "stream",
     "text": [
      "25\n"
     ]
    }
   ],
   "source": [
    "def sqr(a):   # a simple function to return square of a number\n",
    "    return a*a\n",
    "\n",
    "x = sqr(5)\n",
    "print(x)"
   ]
  },
  {
   "cell_type": "code",
   "execution_count": 3,
   "metadata": {},
   "outputs": [
    {
     "ename": "TypeError",
     "evalue": "can't multiply sequence by non-int of type 'list'",
     "output_type": "error",
     "traceback": [
      "\u001b[1;31m---------------------------------------------------------------------------\u001b[0m",
      "\u001b[1;31mTypeError\u001b[0m                                 Traceback (most recent call last)",
      "\u001b[1;32m~\\AppData\\Local\\Temp/ipykernel_26632/3369624781.py\u001b[0m in \u001b[0;36m<module>\u001b[1;34m\u001b[0m\n\u001b[1;32m----> 1\u001b[1;33m \u001b[0mx\u001b[0m \u001b[1;33m=\u001b[0m \u001b[0msqr\u001b[0m\u001b[1;33m(\u001b[0m\u001b[1;33m[\u001b[0m\u001b[1;36m1\u001b[0m\u001b[1;33m,\u001b[0m\u001b[1;36m2\u001b[0m\u001b[1;33m,\u001b[0m\u001b[1;36m3\u001b[0m\u001b[1;33m,\u001b[0m\u001b[1;36m4\u001b[0m\u001b[1;33m]\u001b[0m\u001b[1;33m)\u001b[0m\u001b[1;33m\u001b[0m\u001b[1;33m\u001b[0m\u001b[0m\n\u001b[0m",
      "\u001b[1;32m~\\AppData\\Local\\Temp/ipykernel_26632/902015630.py\u001b[0m in \u001b[0;36msqr\u001b[1;34m(a)\u001b[0m\n\u001b[0;32m      1\u001b[0m \u001b[1;32mdef\u001b[0m \u001b[0msqr\u001b[0m\u001b[1;33m(\u001b[0m\u001b[0ma\u001b[0m\u001b[1;33m)\u001b[0m\u001b[1;33m:\u001b[0m\u001b[1;33m\u001b[0m\u001b[1;33m\u001b[0m\u001b[0m\n\u001b[1;32m----> 2\u001b[1;33m     \u001b[1;32mreturn\u001b[0m \u001b[0ma\u001b[0m\u001b[1;33m*\u001b[0m\u001b[0ma\u001b[0m\u001b[1;33m\u001b[0m\u001b[1;33m\u001b[0m\u001b[0m\n\u001b[0m\u001b[0;32m      3\u001b[0m \u001b[1;33m\u001b[0m\u001b[0m\n\u001b[0;32m      4\u001b[0m \u001b[0mx\u001b[0m \u001b[1;33m=\u001b[0m \u001b[0msqr\u001b[0m\u001b[1;33m(\u001b[0m\u001b[1;36m5\u001b[0m\u001b[1;33m)\u001b[0m\u001b[1;33m\u001b[0m\u001b[1;33m\u001b[0m\u001b[0m\n\u001b[0;32m      5\u001b[0m \u001b[0mprint\u001b[0m\u001b[1;33m(\u001b[0m\u001b[0mx\u001b[0m\u001b[1;33m)\u001b[0m\u001b[1;33m\u001b[0m\u001b[1;33m\u001b[0m\u001b[0m\n",
      "\u001b[1;31mTypeError\u001b[0m: can't multiply sequence by non-int of type 'list'"
     ]
    }
   ],
   "source": [
    "x = sqr([1,2,3,4])  # [1,4,9,16]\n",
    "\n",
    "# this is retunring an error, this func cannot square items of a list and return value \n",
    "# as [1,4,9,16] - to get this kind of output we use map\n"
   ]
  },
  {
   "cell_type": "code",
   "execution_count": 4,
   "metadata": {},
   "outputs": [],
   "source": [
    "def sqr(a):   # a simple function to return square of a number\n",
    "    return a*a"
   ]
  },
  {
   "cell_type": "code",
   "execution_count": 6,
   "metadata": {},
   "outputs": [
    {
     "ename": "TypeError",
     "evalue": "'int' object is not iterable",
     "output_type": "error",
     "traceback": [
      "\u001b[1;31m---------------------------------------------------------------------------\u001b[0m",
      "\u001b[1;31mTypeError\u001b[0m                                 Traceback (most recent call last)",
      "\u001b[1;32m~\\AppData\\Local\\Temp/ipykernel_26632/3449953657.py\u001b[0m in \u001b[0;36m<module>\u001b[1;34m\u001b[0m\n\u001b[1;32m----> 1\u001b[1;33m \u001b[0mmap\u001b[0m\u001b[1;33m(\u001b[0m\u001b[0msqr\u001b[0m\u001b[1;33m,\u001b[0m \u001b[1;36m5\u001b[0m\u001b[1;33m)\u001b[0m\u001b[1;33m\u001b[0m\u001b[1;33m\u001b[0m\u001b[0m\n\u001b[0m",
      "\u001b[1;31mTypeError\u001b[0m: 'int' object is not iterable"
     ]
    }
   ],
   "source": [
    "# Syntax map ( function , iterables)\n",
    "\n",
    "map(sqr, 5) # this will given an error. If you want just one value use normal function\n",
    "\n",
    "# go to normal function for normal function"
   ]
  },
  {
   "cell_type": "code",
   "execution_count": 9,
   "metadata": {},
   "outputs": [
    {
     "name": "stdout",
     "output_type": "stream",
     "text": [
      "<map object at 0x0000020A4E274640>\n",
      "[1, 4, 9, 16]\n"
     ]
    }
   ],
   "source": [
    "x = map(sqr, [1,2,3,4])\n",
    "print(x)\n",
    "print(list(x))"
   ]
  },
  {
   "cell_type": "code",
   "execution_count": 10,
   "metadata": {},
   "outputs": [
    {
     "data": {
      "text/plain": [
       "[1, 4, 9, 16]"
      ]
     },
     "execution_count": 10,
     "metadata": {},
     "output_type": "execute_result"
    }
   ],
   "source": [
    "# you can also write the code in one line\n",
    "\n",
    "list(map(sqr, [1,2,3,4]))"
   ]
  },
  {
   "cell_type": "code",
   "execution_count": 11,
   "metadata": {},
   "outputs": [
    {
     "data": {
      "text/plain": [
       "[101, 202, 303, 404]"
      ]
     },
     "execution_count": 11,
     "metadata": {},
     "output_type": "execute_result"
    }
   ],
   "source": [
    "# sending more than one list\n",
    "\n",
    "def addn(a,b):\n",
    "    return a+b\n",
    "\n",
    "list(map(addn,[1,2,3,4],[100,200,300,400]))"
   ]
  },
  {
   "cell_type": "code",
   "execution_count": 13,
   "metadata": {},
   "outputs": [],
   "source": [
    "# but we do not use map function like in the above example\n",
    "# we genrally use map and filter with Lambda"
   ]
  },
  {
   "cell_type": "markdown",
   "metadata": {},
   "source": [
    "# Lambda Functions\n",
    "\n",
    "They are the functions that do not have any name. They are also called as anonymous functions or nameless functions.\n",
    "\n",
    "They are generally provided as inputs to other functions\n",
    "\n",
    "They are single line functions.\n",
    "\n",
    "Lambda is not a name, it is a keyword\n",
    "\n",
    "A lambda function can take any number of arguments, but can only have one expression."
   ]
  },
  {
   "cell_type": "code",
   "execution_count": 15,
   "metadata": {},
   "outputs": [],
   "source": [
    "# Syntax\n",
    "\n",
    "# lambda arguments : expression"
   ]
  },
  {
   "cell_type": "code",
   "execution_count": 18,
   "metadata": {},
   "outputs": [
    {
     "data": {
      "text/plain": [
       "9"
      ]
     },
     "execution_count": 18,
     "metadata": {},
     "output_type": "execute_result"
    }
   ],
   "source": [
    "def sqr(a):\n",
    "    return a*a\n",
    "sqr(3)"
   ]
  },
  {
   "cell_type": "markdown",
   "metadata": {},
   "source": [
    "now the above example we can do in single line with lambda function"
   ]
  },
  {
   "cell_type": "code",
   "execution_count": 20,
   "metadata": {},
   "outputs": [
    {
     "data": {
      "text/plain": [
       "9"
      ]
     },
     "execution_count": 20,
     "metadata": {},
     "output_type": "execute_result"
    }
   ],
   "source": [
    "#with lambda\n",
    "\n",
    "x = lambda a : a*a\n",
    "x(3)"
   ]
  },
  {
   "cell_type": "code",
   "execution_count": 21,
   "metadata": {},
   "outputs": [
    {
     "data": {
      "text/plain": [
       "81"
      ]
     },
     "execution_count": 21,
     "metadata": {},
     "output_type": "execute_result"
    }
   ],
   "source": [
    "x(9)"
   ]
  },
  {
   "cell_type": "code",
   "execution_count": 22,
   "metadata": {},
   "outputs": [
    {
     "data": {
      "text/plain": [
       "4096"
      ]
     },
     "execution_count": 22,
     "metadata": {},
     "output_type": "execute_result"
    }
   ],
   "source": [
    "x(-64)"
   ]
  },
  {
   "cell_type": "code",
   "execution_count": 23,
   "metadata": {},
   "outputs": [
    {
     "data": {
      "text/plain": [
       "11"
      ]
     },
     "execution_count": 23,
     "metadata": {},
     "output_type": "execute_result"
    }
   ],
   "source": [
    "# we can solve any problems using lambda function\n",
    "\n",
    "# 5x+3y\n",
    "\n",
    "z = lambda x,y : 5*x+3*y\n",
    "\n",
    "z(1,2)"
   ]
  },
  {
   "cell_type": "code",
   "execution_count": 16,
   "metadata": {},
   "outputs": [
    {
     "data": {
      "text/plain": [
       "[1, 4, 9, 16]"
      ]
     },
     "execution_count": 16,
     "metadata": {},
     "output_type": "execute_result"
    }
   ],
   "source": [
    "# now lets use map from lambda # from here it is very imp\n",
    "# map syntax - map(function, iterables)\n",
    "\n",
    "l = [1,2,3,4]\n",
    "list(map(lambda x : x*x, l))"
   ]
  },
  {
   "cell_type": "code",
   "execution_count": 27,
   "metadata": {},
   "outputs": [
    {
     "data": {
      "text/plain": [
       "[1, 4, 9, 16]"
      ]
     },
     "execution_count": 27,
     "metadata": {},
     "output_type": "execute_result"
    }
   ],
   "source": [
    "# now the above code in one line\n",
    "\n",
    "list(map(lambda x : x*x, [1,2,3,4]))\n",
    "\n",
    "# this is very similar to list comrehension and dictionary comprehension\n",
    "# but here it can be done in one single line. Very imp topic for ML and deep learning\n",
    "# very popular in Natural Language processing"
   ]
  },
  {
   "cell_type": "code",
   "execution_count": 28,
   "metadata": {},
   "outputs": [
    {
     "data": {
      "text/plain": [
       "[1, 4, 9, 16]"
      ]
     },
     "execution_count": 28,
     "metadata": {},
     "output_type": "execute_result"
    }
   ],
   "source": [
    "list(map(lambda f : f*f, [1,2,3,4]))"
   ]
  },
  {
   "cell_type": "code",
   "execution_count": 29,
   "metadata": {},
   "outputs": [
    {
     "data": {
      "text/plain": [
       "[21, 22, 23, 24]"
      ]
     },
     "execution_count": 29,
     "metadata": {},
     "output_type": "execute_result"
    }
   ],
   "source": [
    "list(map(lambda f : f+20, [1,2,3,4]))"
   ]
  },
  {
   "cell_type": "code",
   "execution_count": 31,
   "metadata": {},
   "outputs": [
    {
     "data": {
      "text/plain": [
       "[20, 40, 60, 80]"
      ]
     },
     "execution_count": 31,
     "metadata": {},
     "output_type": "execute_result"
    }
   ],
   "source": [
    "# example to multiple two list\n",
    "\n",
    "list(map(lambda f,g : f*g, [1,2,3,4], [20,20,20,20]))"
   ]
  },
  {
   "cell_type": "code",
   "execution_count": 33,
   "metadata": {},
   "outputs": [
    {
     "data": {
      "text/plain": [
       "[23, 44, 65]"
      ]
     },
     "execution_count": 33,
     "metadata": {},
     "output_type": "execute_result"
    }
   ],
   "source": [
    "# now 3 variable\n",
    "list(map(lambda x,y,z : x*y+z, [1,2,3,4], [20,20,20,20],[3,4,5])) \n",
    "\n",
    "# it will multiply and add only until it finds a item in all the lists\n",
    "# here you can see 4*20+5 = 85 is not present in the answer "
   ]
  },
  {
   "cell_type": "markdown",
   "metadata": {},
   "source": [
    "# Fliters\n",
    "\n",
    "Filter and maps have same syntax\n",
    "\n",
    "it is used to filter the given iterable with the help of another function passed as an argument to test all the elements to be True\n",
    "\n",
    "filter ( function, iterables)\n",
    "\n",
    "map (function, iterables)"
   ]
  },
  {
   "cell_type": "code",
   "execution_count": 37,
   "metadata": {},
   "outputs": [
    {
     "name": "stdout",
     "output_type": "stream",
     "text": [
      "0 1 2 3 4 5 6 7 8 9 10 11 12 13 14 15 16 17 18 19 20 21 22 23 24 "
     ]
    }
   ],
   "source": [
    "# this is random example.not related to filter, map or lambda\n",
    "\n",
    "l = list(range(25))\n",
    "import time\n",
    "for i in l:\n",
    "    print(i, end = \" \")\n",
    "    time.sleep(0.1)"
   ]
  },
  {
   "cell_type": "code",
   "execution_count": 38,
   "metadata": {},
   "outputs": [
    {
     "data": {
      "text/plain": [
       "[6, 7, 8, 9, 10]"
      ]
     },
     "execution_count": 38,
     "metadata": {},
     "output_type": "execute_result"
    }
   ],
   "source": [
    "list(filter(lambda x : x>=6,[1,2,3,4,5,6,7,8,9,10]))"
   ]
  },
  {
   "cell_type": "code",
   "execution_count": 17,
   "metadata": {},
   "outputs": [
    {
     "data": {
      "text/plain": [
       "[False, False, False, False, False, True, True, True, True, True]"
      ]
     },
     "execution_count": 17,
     "metadata": {},
     "output_type": "execute_result"
    }
   ],
   "source": [
    "list(map(lambda x : x>=6,[1,2,3,4,5,6,7,8,9,10]))\n",
    "\n",
    "# now you can see the difference between map and filter"
   ]
  },
  {
   "cell_type": "code",
   "execution_count": 45,
   "metadata": {},
   "outputs": [
    {
     "data": {
      "text/plain": [
       "[106, 107, 108, 109, 110]"
      ]
     },
     "execution_count": 45,
     "metadata": {},
     "output_type": "execute_result"
    }
   ],
   "source": [
    "# using map and filter together\n",
    "\n",
    "# last example\n",
    "\n",
    "# syntax list(map(func, iter))\n",
    "\n",
    "list(map(lambda x : x +100,list(filter(lambda x : x>=6,[1,2,3,4,5,6,7,8,9,10]))))"
   ]
  },
  {
   "cell_type": "code",
   "execution_count": 48,
   "metadata": {},
   "outputs": [
    {
     "data": {
      "text/plain": [
       "[106, 107, 108, 109, 110]"
      ]
     },
     "execution_count": 48,
     "metadata": {},
     "output_type": "execute_result"
    }
   ],
   "source": [
    "# you can also use map inside filter\n",
    "\n",
    "# now to the above output i want to identify numbers that are greater than 100\n",
    "\n",
    "list(filter(lambda x : x>105,list(map(lambda x : x +100,list(filter(lambda x : x>=6,[1,2,3,4,5,6,7,8,9,10]))))))"
   ]
  },
  {
   "cell_type": "markdown",
   "metadata": {},
   "source": [
    "so map filter can be used interchangebly"
   ]
  },
  {
   "cell_type": "markdown",
   "metadata": {},
   "source": [
    "# split : \n",
    "\n",
    "> split method in python split a string into a list of strings after breaking the given string by specified seperator"
   ]
  },
  {
   "cell_type": "raw",
   "metadata": {},
   "source": [
    "syntax :\n",
    "    \n",
    "split(seperator, maxsplit)"
   ]
  },
  {
   "cell_type": "code",
   "execution_count": 1,
   "metadata": {},
   "outputs": [
    {
     "name": "stdout",
     "output_type": "stream",
     "text": [
      "['Welcome', 'to', 'Baord', 'Infinity']\n"
     ]
    }
   ],
   "source": [
    "t = \"Welcome to Baord Infinity\" # this is similar to text to columns in excel \n",
    "print(t.split())"
   ]
  },
  {
   "cell_type": "code",
   "execution_count": 3,
   "metadata": {},
   "outputs": [
    {
     "name": "stdout",
     "output_type": "stream",
     "text": [
      "['Welcome', 'to', 'Baord', 'Infinity']\n"
     ]
    }
   ],
   "source": [
    "t = \"Welcome,to,Baord,Infinity\"\n",
    "print(t.split(','))"
   ]
  },
  {
   "cell_type": "code",
   "execution_count": 4,
   "metadata": {},
   "outputs": [
    {
     "name": "stdout",
     "output_type": "stream",
     "text": [
      "['Welcome', 'to', 'Baord', 'Infinity']\n"
     ]
    }
   ],
   "source": [
    "t = \"Welcome:to:Baord:Infinity\"\n",
    "print(t.split(':'))"
   ]
  },
  {
   "cell_type": "code",
   "execution_count": 5,
   "metadata": {},
   "outputs": [
    {
     "name": "stdout",
     "output_type": "stream",
     "text": [
      "['Welcome:to:Baord:Infinity']\n"
     ]
    }
   ],
   "source": [
    "t = \"Welcome:to:Baord:Infinity\"\n",
    "print(t.split(':',0))"
   ]
  },
  {
   "cell_type": "code",
   "execution_count": 6,
   "metadata": {},
   "outputs": [
    {
     "name": "stdout",
     "output_type": "stream",
     "text": [
      "['Welcome', 'to', 'Baord', 'Infinity']\n"
     ]
    }
   ],
   "source": [
    "t = \"Welcome:to:Baord:Infinity\"\n",
    "print(t.split(':',4))"
   ]
  },
  {
   "cell_type": "code",
   "execution_count": 7,
   "metadata": {},
   "outputs": [
    {
     "name": "stdout",
     "output_type": "stream",
     "text": [
      "['Welcome', 'to:Baord:Infinity']\n"
     ]
    }
   ],
   "source": [
    "t = \"Welcome:to:Baord:Infinity\"\n",
    "print(t.split(':',1))"
   ]
  },
  {
   "cell_type": "markdown",
   "metadata": {},
   "source": [
    "# Happy Learning"
   ]
  }
 ],
 "metadata": {
  "kernelspec": {
   "display_name": "Python 3 (ipykernel)",
   "language": "python",
   "name": "python3"
  },
  "language_info": {
   "codemirror_mode": {
    "name": "ipython",
    "version": 3
   },
   "file_extension": ".py",
   "mimetype": "text/x-python",
   "name": "python",
   "nbconvert_exporter": "python",
   "pygments_lexer": "ipython3",
   "version": "3.9.7"
  },
  "toc": {
   "base_numbering": 1,
   "nav_menu": {},
   "number_sections": true,
   "sideBar": true,
   "skip_h1_title": false,
   "title_cell": "Table of Contents",
   "title_sidebar": "Contents",
   "toc_cell": false,
   "toc_position": {},
   "toc_section_display": true,
   "toc_window_display": false
  }
 },
 "nbformat": 4,
 "nbformat_minor": 2
}
