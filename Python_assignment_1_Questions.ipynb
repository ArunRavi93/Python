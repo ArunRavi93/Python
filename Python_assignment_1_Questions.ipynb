{
 "cells": [
  {
   "cell_type": "code",
   "execution_count": null,
   "metadata": {
    "id": "p5oraMdu1nQe"
   },
   "outputs": [],
   "source": [
    "from pyforest import*"
   ]
  },
  {
   "cell_type": "markdown",
   "metadata": {
    "id": "qlLbOeAX1nQo"
   },
   "source": [
    "## Section-A"
   ]
  },
  {
   "cell_type": "markdown",
   "metadata": {
    "id": "ETUNAYTW1nQt"
   },
   "source": [
    "### 1.Write a Python program to make a currency converter. (5 Marks) The currency converter should be able to convert a specific currency to appropriate INR (Indian National Rupee) value. \n",
    "1. USD (U.S Dollars)          \n",
    "(1 USD =71.83 INR) \n",
    "2. YEN (Japanese YEN)       \n",
    "(1 YEN= 0.66 INR\n",
    "3. EURO                               \n",
    "(1 EURO=79.57 INR)  \n",
    "4. U.K POUND                      \n",
    "(1 U.K POUND=93.11 INR) \n",
    " "
   ]
  },
  {
   "cell_type": "code",
   "execution_count": null,
   "metadata": {
    "id": "MSGjdLTe1nQx"
   },
   "outputs": [],
   "source": [
    "you can create a dictionary with this values\n",
    "USD\n",
    "\n",
    "2 inputs \n",
    "\n",
    "how much they want to convert 10000 \n",
    "into which currency u want to convert \n",
    "\n",
    "100 == 100/71.83 \n",
    "\n",
    "\n",
    "USD\n",
    "YEN\n",
    "EURO\n",
    "UK Pound"
   ]
  },
  {
   "cell_type": "markdown",
   "metadata": {
    "id": "UUtvVNJN1nQy"
   },
   "source": [
    "### 2.Write a Python program which calculates area of various geometrical figures as given below: (5 Marks)                                                      Program should ask the user about the geometrical figure for which he wants to calculate the area. Take the inputs accordingly and calculate the area. (units/metrics like mm, cm can be including as per the programmer’s choice)   \n",
    "1. the formula to calculate area of a square is Area= (Side of a square)**2    \n",
    "2. The formula to calculate area of a circle is Area=(pi)*(radius)**2    \n",
    "3. The formula to calculate area of a triangle is Area=0.5*Base *Height   \n",
    "4. The formula to calculate area of a cylinder is Area=2*pi*radius*height+2*pi*(radius**2) "
   ]
  },
  {
   "cell_type": "code",
   "execution_count": null,
   "metadata": {
    "id": "lewcEjbT1nQ0"
   },
   "outputs": [],
   "source": [
    "# first input is very import\n",
    "\n",
    "# Square  # 1 imput\n",
    "\n",
    "# Circel # 1 input\n",
    "\n",
    "# Train # 2 Height\n",
    "\n",
    "#\n",
    "\n",
    "elif name == \"Square\":\n",
    "    s = int (input(\"Enter the lenght the side of square\"))\n",
    "    \n",
    "elif name == \"rec\":\n",
    "    a = int (input(\"Enter the base of the len\"))\n",
    "    b = int (input(\"Enter the base of the bret\"))"
   ]
  },
  {
   "cell_type": "markdown",
   "metadata": {
    "id": "9m0RBTZs1nQ1"
   },
   "source": [
    "## 3. A string is said to be complete if it contains all the characters from a to z. Given a string, check if it completes or not.\n",
    "\n",
    "Input: The first line of the input contains the number of strings N.It is followed by N lines each contains a single string.\n",
    "\n",
    "Output: For each test case print \"YES\" if the string is complete, else print \"NO\" \n",
    "\n",
    "Constraints 1 <= N <= 10 \n",
    "\n",
    "The length of the string is at max 100 and the string contains only the characters a to z "
   ]
  },
  {
   "cell_type": "code",
   "execution_count": null,
   "metadata": {
    "id": "lvknBjC51nQ4"
   },
   "outputs": [],
   "source": [
    "# palindrome\n",
    "\n",
    "# pangram example\n",
    "\n",
    "\n",
    "one variable should contain all the char of englinsh alphabet\n",
    "\n",
    "2nd variable should contain ur intput \n",
    "\n",
    "\n",
    "\" A quick brown Fox can junt\""
   ]
  },
  {
   "cell_type": "markdown",
   "metadata": {
    "id": "Fst-YjSE1nQ6"
   },
   "source": [
    "## 4. Given A String S Find The Number Of White Spaces In The Given String S. (5 Marks) \n",
    " \n",
    "Input Format: \n",
    "\n",
    "Take input string: \n",
    "\n",
    "S Output Format Number of White spaces in S \n",
    "\n",
    "Constraints\n",
    "\n",
    "0<S<100001 \n",
    "\n",
    "Sample Input  Hello World \n",
    "\n",
    "Sample Output:   1 "
   ]
  },
  {
   "cell_type": "code",
   "execution_count": null,
   "metadata": {
    "id": "k_gFumyo1nQ9"
   },
   "outputs": [],
   "source": [
    "counter = 0 \n",
    "\n",
    "s =\" Welcome to Board infinity \"\n",
    "\n",
    "len(string)\n",
    "\n",
    "s[0] == \" \"\n",
    "count = count+1"
   ]
  },
  {
   "cell_type": "markdown",
   "metadata": {
    "id": "ZCxxGokL1nQ9"
   },
   "source": [
    "## Section -B"
   ]
  },
  {
   "cell_type": "markdown",
   "metadata": {
    "id": "YyH8iRNC1nQ_"
   },
   "source": [
    "### 5. A Basket of Halloween candy has an unknown amount of candy and you need to guess exactly how much candy is in the bowl. You ask the person in charge a few questions to make a correct guess. If the candy is divided evenly among 5 people, how many pieces would be leftover? The answer is 2 pieces. You then ask about dividing the candy evenly among 6 people, and the amount left over is 3 pieces. Finally, you ask about dividing the candy evenly among 7 people, and the amount left over is 2 pieces. By looking at the bowl, you can tell that there are less than 200 pieces. Write a program to determine how many pieces are in the bowl. (10 Marks) \n",
    " "
   ]
  },
  {
   "cell_type": "code",
   "execution_count": null,
   "metadata": {
    "id": "yd_32vn01nRB"
   },
   "outputs": [],
   "source": [
    "x%5 = 2\n",
    "x%6 = 3\n",
    "x%7 = 2\n",
    "\n",
    "X when dividen by 5 gives reminder 2, when divided by 6 gives reminder 3, when divided by 7 gives reminder 2\n",
    "What is X and X is less than 200\n",
    "\n",
    "#for\n",
    "# if\n",
    "#Continue & break"
   ]
  },
  {
   "cell_type": "markdown",
   "metadata": {
    "id": "or_Pf4W81nRC"
   },
   "source": [
    "### 6.Write a multiplication game program for kids. The program should give the player ten randomly generated multiplication questions to do. After each, the program should tell them whether they got it right or wrong and what the correct answer is and finally it should display the total score out of 10 scored by user. "
   ]
  },
  {
   "cell_type": "code",
   "execution_count": null,
   "metadata": {
    "id": "vq_Ftth41nRD"
   },
   "outputs": [],
   "source": [
    "# you should give then 10 problems\n",
    "\n",
    "# select difficulty level \n",
    "\n",
    "1 to 10\n",
    "\n",
    "num1 = random.randint(1,10)\n",
    "num2 = \n",
    "\n",
    "def multiply():\n",
    "    count = 0\n",
    "    while \n",
    "    user_answer = input(\"what is answer for \" + str(num1))\n",
    "    \n",
    "    if user_answer == answer:\n",
    "        Print(\"correct\")\n",
    "    else :\n",
    "        print(\"incorrect answer\")\n",
    "        print(\"correct answere is\")\n",
    "        \n",
    "        \n",
    "random module\n",
    "functions\n",
    "loop - while\n",
    "conditional exectuion if & else\n",
    "\n"
   ]
  },
  {
   "cell_type": "markdown",
   "metadata": {
    "id": "rFFtCXd-1nRE"
   },
   "source": [
    "## SECTION:- C"
   ]
  },
  {
   "cell_type": "markdown",
   "metadata": {
    "id": "senxC9lL1nRG"
   },
   "source": [
    "###  7. Write a program to have a function called triple_shuffle () that takes three lists of the same size and shuffles them concurrently, so that they are shuffled in the exact same way. For instance, if the lists are [10,20,30,40,50], [11,22,33,44,55], and [19,18,17,16,15], and the first list is shuffled into [40,50,30,20,10], then the second would become [44,55,33,22,11] and the third would become [16,15,17,18,19]. The function should modify the lists and not return anything. "
   ]
  },
  {
   "cell_type": "code",
   "execution_count": null,
   "metadata": {
    "id": "lJN1zo741nRH"
   },
   "outputs": [],
   "source": [
    "3 list  inputs\n",
    "\n",
    "[1,2,3]\n",
    "\n",
    "[2,3,1]\n",
    "\n",
    "[3,1,2]\n",
    "\n",
    "Random\n",
    "random.shuffle"
   ]
  },
  {
   "cell_type": "markdown",
   "metadata": {
    "id": "u6KyBeid1nRH"
   },
   "source": [
    "## 8. A dictionary provides a nice way to represent a deck of cards. It can be done by given code.\n",
    "This deck is actually a list of 52 cards, each card is a dictionary of value and suite.  Values 11,12,13,14 represents Joker, Queen, King and Ace cards respectively. \n",
    "\n",
    "Create a simple card game which repeatedly deal out three cards from this deck of cards after shuffling it and display it. \n",
    "For every iteration of game, Determine the following for these three cards. \n",
    "\n",
    "A. If the three cards form a flush (all of the same suit), then display a message \"Three cards form a flush\"\n",
    "\n",
    "B. If there is a three-of-a-kind (all of the same value), then display a message \"there is a three-of-a-kind\" \n",
    "\n",
    "C. If there is a pair, but not three-of-a-kind, then display a message \"There is a pair\"\n",
    "\n",
    "D. If the three cards form a straight (all in a row, like (2, 3, 4) or (10, Jack, Queen)), then display a message \"Three cards form a straight\"\n",
    "\n",
    "E. if none of the above case, then display a message \"Try NEXT!!!\" \n",
    "\n",
    "F. At the end, ask user whether he/she wants to continue with the game? y/n.       If user gives 'n’, then stop playing this game"
   ]
  },
  {
   "cell_type": "code",
   "execution_count": null,
   "metadata": {
    "id": "Hgm9o4921nRJ"
   },
   "outputs": [],
   "source": [
    "suits = {\n",
    "    \n",
    "    0 :' clubs',\n",
    "    1: 'Spades',\n",
    "    2: 'Hearts'\n",
    "    3 : 'Diamond'\n",
    "    \n",
    "}\n",
    "\n",
    "cards = {\n",
    "    2 : '2'\n",
    "    3 : '3'\n",
    "    \n",
    "    \n",
    "    11 : 'Jack',\n",
    "    12 : 'Queen',\n",
    "    13 : 'K'\n",
    "    14: 'A'\n",
    "    \n",
    "}\n",
    "\n",
    "3 cards\n",
    "for loop \n",
    "x = randint(0,3)\n",
    "y = randint(2,14)\n",
    "\n",
    "\n",
    "flush  = diamond diamond diamond\n",
    "3 of a kind = 8 8 8 , 6 6 6 , 3 3 3,  \n",
    "pair = 5 5 8\n",
    "straight = 2 3 4, j Q k, 7 8 9, 9 10 J"
   ]
  },
  {
   "cell_type": "markdown",
   "metadata": {
    "id": "VPWR3as51nRK"
   },
   "source": [
    "## Section D"
   ]
  },
  {
   "cell_type": "markdown",
   "metadata": {
    "id": "CoozNgWv1nRL"
   },
   "source": [
    "### 9. Write a Python Program to implement your own myreduce() function which works exactly like Python's built-in function reduce() "
   ]
  },
  {
   "cell_type": "code",
   "execution_count": 5,
   "metadata": {
    "id": "MkPzC44-1nRM"
   },
   "outputs": [
    {
     "name": "stdout",
     "output_type": "stream",
     "text": [
      "17\n"
     ]
    }
   ],
   "source": [
    "# Map, Filter, Lambda, reduce (functools)\n",
    "\n",
    "# understand what is the logic behind reduce function \n",
    "\n",
    "# try to build that logic using a user defined funtion\n",
    "\n",
    "# Reduce inbuilt funtion \n",
    "\n",
    "# Reduce user defined function\n",
    "\n",
    "import functools\n",
    "list = [1,3,5,6,2]\n",
    "\n",
    "print(functools.reduce(lambda a,b : a*b, list))\n",
    "\n"
   ]
  },
  {
   "cell_type": "markdown",
   "metadata": {
    "id": "RI8Ch8nW1nRN"
   },
   "source": [
    "### 10. Write a Python Program to implement your own myreduce() function which works exactly like Python's built-in function reduce() and find the sum and product of list values."
   ]
  },
  {
   "cell_type": "code",
   "execution_count": null,
   "metadata": {
    "id": "IpsSyViv1nRN"
   },
   "outputs": [],
   "source": [
    "def user_def_reduce(num)\n",
    "\n",
    "for i in xyz list:\n",
    "    sum = sum + i\n",
    "    \n",
    "for i in xyz list:\n",
    "    prod = prod * i\n",
    "    \n",
    "print (sum is)\n",
    "print (product is)"
   ]
  },
  {
   "cell_type": "markdown",
   "metadata": {
    "id": "5f_SiWpa1nRO"
   },
   "source": [
    "### 11. Implement a function longestWord() that takes a list of words and returns the longest one."
   ]
  },
  {
   "cell_type": "code",
   "execution_count": null,
   "metadata": {
    "id": "DR-JF_vl1nRP"
   },
   "outputs": [],
   "source": [
    "['Board','infinity','abc','a']\n",
    "\n",
    "longest word is infinity\n",
    "8\n",
    "\n",
    "for\n",
    "append\n",
    "sort\n",
    "\n",
    "\n",
    "'Board'\n",
    "\n",
    "['b','o','a','r','d'] Len(list) = 5\n",
    "\n",
    "\n",
    "infinity\n",
    "8"
   ]
  },
  {
   "cell_type": "markdown",
   "metadata": {
    "id": "a59GeLkD1nRQ"
   },
   "source": [
    "### 12. Write a Python Program(with class concepts) to find the area of the triangle using the below formula. \n",
    " \n",
    "area = (s*(s-a)*(s-b)*(s-c)) ** 0.5 \n",
    " \n",
    "Function to take the length of the sides of triangle from user should be defined in the parent class and function to calculate the area should be defined in subclass. "
   ]
  },
  {
   "cell_type": "code",
   "execution_count": null,
   "metadata": {
    "id": "_SDOq6Fa1nRQ"
   },
   "outputs": [],
   "source": [
    "class par:\n",
    "    def __init(self, a,b,c):\n",
    "        self.a = float(a)\n",
    "        self.b = float (b)\n",
    "        self.c = float (c)\n",
    "        \n",
    "a = int (input(\"a=\"))\n",
    "a = int (input(\"a=\"))\n",
    "a = int (input(\"a=\"))\n",
    "\n",
    "class triangle\n",
    "\n",
    "def get_area(self):\n",
    "    s = \n",
    "    \n",
    "    print(\"area of traingle is\", s)\n",
    "\n",
    "    \n",
    "t = traingle (a,b,c)"
   ]
  },
  {
   "cell_type": "markdown",
   "metadata": {
    "id": "IlkXMdQz1nRR"
   },
   "source": [
    "### 13. Write a Python program using function concept that maps  list of words into a list of integers representing the lengths of the corresponding words​. \n",
    " Hint: ​If a list [ ab,cde,erty] is passed on to the python function output should come as [2,3,4] \n",
    " \n",
    " Here 2,3 and 4 are the lengths of the words in the list. "
   ]
  },
  {
   "cell_type": "code",
   "execution_count": null,
   "metadata": {
    "id": "axFyFutC1nRR"
   },
   "outputs": [],
   "source": []
  },
  {
   "cell_type": "code",
   "execution_count": null,
   "metadata": {
    "id": "bvx7oV3F1nRS"
   },
   "outputs": [],
   "source": []
  }
 ],
 "metadata": {
  "colab": {
   "collapsed_sections": [],
   "name": "Python assignment-1 Questions.ipynb",
   "provenance": []
  },
  "kernelspec": {
   "display_name": "Python 3 (ipykernel)",
   "language": "python",
   "name": "python3"
  },
  "language_info": {
   "codemirror_mode": {
    "name": "ipython",
    "version": 3
   },
   "file_extension": ".py",
   "mimetype": "text/x-python",
   "name": "python",
   "nbconvert_exporter": "python",
   "pygments_lexer": "ipython3",
   "version": "3.9.7"
  }
 },
 "nbformat": 4,
 "nbformat_minor": 1
}
